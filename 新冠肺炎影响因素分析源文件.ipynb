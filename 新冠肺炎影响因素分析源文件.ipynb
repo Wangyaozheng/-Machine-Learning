{
 "cells": [
  {
   "cell_type": "code",
   "execution_count": 1,
   "metadata": {},
   "outputs": [],
   "source": [
    "import pandas as pd\n",
    "import os \n",
    "import matplotlib.pyplot as plt\n",
    "import seaborn as sns"
   ]
  },
  {
   "cell_type": "code",
   "execution_count": 2,
   "metadata": {},
   "outputs": [],
   "source": [
    "# 解决matplotlib中文显示以及负号(-)显示\n",
    "plt.rcParams['font.sans-serif'] = ['SimHei']\n",
    "plt.rcParams['axes.unicode_minus'] = False"
   ]
  },
  {
   "cell_type": "code",
   "execution_count": 3,
   "metadata": {},
   "outputs": [
    {
     "data": {
      "text/html": [
       "<div>\n",
       "<style scoped>\n",
       "    .dataframe tbody tr th:only-of-type {\n",
       "        vertical-align: middle;\n",
       "    }\n",
       "\n",
       "    .dataframe tbody tr th {\n",
       "        vertical-align: top;\n",
       "    }\n",
       "\n",
       "    .dataframe thead th {\n",
       "        text-align: right;\n",
       "    }\n",
       "</style>\n",
       "<table border=\"1\" class=\"dataframe\">\n",
       "  <thead>\n",
       "    <tr style=\"text-align: right;\">\n",
       "      <th></th>\n",
       "      <th>test_date</th>\n",
       "      <th>cough</th>\n",
       "      <th>fever</th>\n",
       "      <th>sore_throat</th>\n",
       "      <th>shortness_of_breath</th>\n",
       "      <th>head_ache</th>\n",
       "      <th>corona_result</th>\n",
       "      <th>age_60_and_above</th>\n",
       "      <th>gender</th>\n",
       "      <th>test_indication</th>\n",
       "    </tr>\n",
       "  </thead>\n",
       "  <tbody>\n",
       "    <tr>\n",
       "      <th>0</th>\n",
       "      <td>2020/9/21</td>\n",
       "      <td>0</td>\n",
       "      <td>0</td>\n",
       "      <td>0</td>\n",
       "      <td>0</td>\n",
       "      <td>0</td>\n",
       "      <td>1</td>\n",
       "      <td>No</td>\n",
       "      <td>male</td>\n",
       "      <td>Other</td>\n",
       "    </tr>\n",
       "    <tr>\n",
       "      <th>1</th>\n",
       "      <td>2020/4/7</td>\n",
       "      <td>1</td>\n",
       "      <td>0</td>\n",
       "      <td>0</td>\n",
       "      <td>0</td>\n",
       "      <td>1</td>\n",
       "      <td>1</td>\n",
       "      <td>No</td>\n",
       "      <td>male</td>\n",
       "      <td>Other</td>\n",
       "    </tr>\n",
       "    <tr>\n",
       "      <th>2</th>\n",
       "      <td>2020/8/26</td>\n",
       "      <td>0</td>\n",
       "      <td>0</td>\n",
       "      <td>0</td>\n",
       "      <td>0</td>\n",
       "      <td>0</td>\n",
       "      <td>1</td>\n",
       "      <td>Yes</td>\n",
       "      <td>female</td>\n",
       "      <td>Contact with confirmed</td>\n",
       "    </tr>\n",
       "    <tr>\n",
       "      <th>3</th>\n",
       "      <td>2020/10/14</td>\n",
       "      <td>0</td>\n",
       "      <td>0</td>\n",
       "      <td>0</td>\n",
       "      <td>0</td>\n",
       "      <td>0</td>\n",
       "      <td>1</td>\n",
       "      <td>No</td>\n",
       "      <td>male</td>\n",
       "      <td>Other</td>\n",
       "    </tr>\n",
       "    <tr>\n",
       "      <th>4</th>\n",
       "      <td>2020/9/2</td>\n",
       "      <td>0</td>\n",
       "      <td>0</td>\n",
       "      <td>0</td>\n",
       "      <td>0</td>\n",
       "      <td>0</td>\n",
       "      <td>1</td>\n",
       "      <td>No</td>\n",
       "      <td>female</td>\n",
       "      <td>Other</td>\n",
       "    </tr>\n",
       "  </tbody>\n",
       "</table>\n",
       "</div>"
      ],
      "text/plain": [
       "    test_date  cough  fever  sore_throat  shortness_of_breath  head_ache  \\\n",
       "0   2020/9/21      0      0            0                    0          0   \n",
       "1    2020/4/7      1      0            0                    0          1   \n",
       "2   2020/8/26      0      0            0                    0          0   \n",
       "3  2020/10/14      0      0            0                    0          0   \n",
       "4    2020/9/2      0      0            0                    0          0   \n",
       "\n",
       "   corona_result age_60_and_above  gender         test_indication  \n",
       "0              1               No    male                   Other  \n",
       "1              1               No    male                   Other  \n",
       "2              1              Yes  female  Contact with confirmed  \n",
       "3              1               No    male                   Other  \n",
       "4              1               No  female                   Other  "
      ]
     },
     "execution_count": 3,
     "metadata": {},
     "output_type": "execute_result"
    }
   ],
   "source": [
    "data = pd.read_csv(r'C:\\Users\\65164\\Desktop\\202026231_王耀正_covid数据集的可视化分析\\1.数据及分析源文件\\2020年Covid-19数据.csv')\n",
    "data.head()"
   ]
  },
  {
   "cell_type": "code",
   "execution_count": 4,
   "metadata": {},
   "outputs": [
    {
     "data": {
      "text/plain": [
       "(400000, 10)"
      ]
     },
     "execution_count": 4,
     "metadata": {},
     "output_type": "execute_result"
    }
   ],
   "source": [
    "data.shape"
   ]
  },
  {
   "cell_type": "code",
   "execution_count": 5,
   "metadata": {},
   "outputs": [
    {
     "name": "stdout",
     "output_type": "stream",
     "text": [
      "<class 'pandas.core.frame.DataFrame'>\n",
      "RangeIndex: 400000 entries, 0 to 399999\n",
      "Data columns (total 10 columns):\n",
      " #   Column               Non-Null Count   Dtype \n",
      "---  ------               --------------   ----- \n",
      " 0   test_date            400000 non-null  object\n",
      " 1   cough                400000 non-null  int64 \n",
      " 2   fever                400000 non-null  int64 \n",
      " 3   sore_throat          400000 non-null  int64 \n",
      " 4   shortness_of_breath  400000 non-null  int64 \n",
      " 5   head_ache            400000 non-null  int64 \n",
      " 6   corona_result        400000 non-null  int64 \n",
      " 7   age_60_and_above     350088 non-null  object\n",
      " 8   gender               392248 non-null  object\n",
      " 9   test_indication      400000 non-null  object\n",
      "dtypes: int64(6), object(4)\n",
      "memory usage: 30.5+ MB\n"
     ]
    }
   ],
   "source": [
    "data.info()"
   ]
  },
  {
   "cell_type": "code",
   "execution_count": 6,
   "metadata": {
    "scrolled": true
   },
   "outputs": [
    {
     "data": {
      "text/plain": [
       "test_date                  0\n",
       "cough                      0\n",
       "fever                      0\n",
       "sore_throat                0\n",
       "shortness_of_breath        0\n",
       "head_ache                  0\n",
       "corona_result              0\n",
       "age_60_and_above       49912\n",
       "gender                  7752\n",
       "test_indication            0\n",
       "dtype: int64"
      ]
     },
     "execution_count": 6,
     "metadata": {},
     "output_type": "execute_result"
    }
   ],
   "source": [
    "data.isnull().sum()#统计每列缺失值得个数"
   ]
  },
  {
   "cell_type": "code",
   "execution_count": 7,
   "metadata": {},
   "outputs": [
    {
     "data": {
      "text/plain": [
       "test_date              0\n",
       "cough                  0\n",
       "fever                  0\n",
       "sore_throat            0\n",
       "shortness_of_breath    0\n",
       "head_ache              0\n",
       "corona_result          0\n",
       "age_60_and_above       0\n",
       "gender                 0\n",
       "test_indication        0\n",
       "dtype: int64"
      ]
     },
     "execution_count": 7,
     "metadata": {},
     "output_type": "execute_result"
    }
   ],
   "source": [
    "data['age_60_and_above'] =  data['age_60_and_above'].fillna('unkown')\n",
    "data['gender'] =  data['gender'].fillna('unkown')\n",
    "data.isnull().sum()#统计每列缺失值得个数"
   ]
  },
  {
   "cell_type": "code",
   "execution_count": 8,
   "metadata": {},
   "outputs": [
    {
     "data": {
      "text/plain": [
       "0         1\n",
       "1         1\n",
       "2         1\n",
       "3         1\n",
       "4         1\n",
       "         ..\n",
       "399995    1\n",
       "399996    0\n",
       "399997    0\n",
       "399998    1\n",
       "399999    1\n",
       "Name: corona_result, Length: 400000, dtype: int64"
      ]
     },
     "execution_count": 8,
     "metadata": {},
     "output_type": "execute_result"
    }
   ],
   "source": [
    "df = data.corona_result\n",
    "df"
   ]
  },
  {
   "cell_type": "code",
   "execution_count": 9,
   "metadata": {},
   "outputs": [
    {
     "data": {
      "text/html": [
       "<div>\n",
       "<style scoped>\n",
       "    .dataframe tbody tr th:only-of-type {\n",
       "        vertical-align: middle;\n",
       "    }\n",
       "\n",
       "    .dataframe tbody tr th {\n",
       "        vertical-align: top;\n",
       "    }\n",
       "\n",
       "    .dataframe thead th {\n",
       "        text-align: right;\n",
       "    }\n",
       "</style>\n",
       "<table border=\"1\" class=\"dataframe\">\n",
       "  <thead>\n",
       "    <tr style=\"text-align: right;\">\n",
       "      <th></th>\n",
       "      <th>test_date</th>\n",
       "      <th>cough</th>\n",
       "      <th>fever</th>\n",
       "      <th>sore_throat</th>\n",
       "      <th>shortness_of_breath</th>\n",
       "      <th>head_ache</th>\n",
       "      <th>corona_result</th>\n",
       "      <th>age_60_and_above</th>\n",
       "      <th>gender</th>\n",
       "      <th>test_indication</th>\n",
       "    </tr>\n",
       "  </thead>\n",
       "  <tbody>\n",
       "    <tr>\n",
       "      <th>0</th>\n",
       "      <td>2020/9/21</td>\n",
       "      <td>0</td>\n",
       "      <td>0</td>\n",
       "      <td>0</td>\n",
       "      <td>0</td>\n",
       "      <td>0</td>\n",
       "      <td>positive</td>\n",
       "      <td>No</td>\n",
       "      <td>male</td>\n",
       "      <td>Other</td>\n",
       "    </tr>\n",
       "    <tr>\n",
       "      <th>1</th>\n",
       "      <td>2020/4/7</td>\n",
       "      <td>1</td>\n",
       "      <td>0</td>\n",
       "      <td>0</td>\n",
       "      <td>0</td>\n",
       "      <td>1</td>\n",
       "      <td>positive</td>\n",
       "      <td>No</td>\n",
       "      <td>male</td>\n",
       "      <td>Other</td>\n",
       "    </tr>\n",
       "    <tr>\n",
       "      <th>2</th>\n",
       "      <td>2020/8/26</td>\n",
       "      <td>0</td>\n",
       "      <td>0</td>\n",
       "      <td>0</td>\n",
       "      <td>0</td>\n",
       "      <td>0</td>\n",
       "      <td>positive</td>\n",
       "      <td>Yes</td>\n",
       "      <td>female</td>\n",
       "      <td>Contact with confirmed</td>\n",
       "    </tr>\n",
       "    <tr>\n",
       "      <th>3</th>\n",
       "      <td>2020/10/14</td>\n",
       "      <td>0</td>\n",
       "      <td>0</td>\n",
       "      <td>0</td>\n",
       "      <td>0</td>\n",
       "      <td>0</td>\n",
       "      <td>positive</td>\n",
       "      <td>No</td>\n",
       "      <td>male</td>\n",
       "      <td>Other</td>\n",
       "    </tr>\n",
       "    <tr>\n",
       "      <th>4</th>\n",
       "      <td>2020/9/2</td>\n",
       "      <td>0</td>\n",
       "      <td>0</td>\n",
       "      <td>0</td>\n",
       "      <td>0</td>\n",
       "      <td>0</td>\n",
       "      <td>positive</td>\n",
       "      <td>No</td>\n",
       "      <td>female</td>\n",
       "      <td>Other</td>\n",
       "    </tr>\n",
       "  </tbody>\n",
       "</table>\n",
       "</div>"
      ],
      "text/plain": [
       "    test_date  cough  fever  sore_throat  shortness_of_breath  head_ache  \\\n",
       "0   2020/9/21      0      0            0                    0          0   \n",
       "1    2020/4/7      1      0            0                    0          1   \n",
       "2   2020/8/26      0      0            0                    0          0   \n",
       "3  2020/10/14      0      0            0                    0          0   \n",
       "4    2020/9/2      0      0            0                    0          0   \n",
       "\n",
       "  corona_result age_60_and_above  gender         test_indication  \n",
       "0      positive               No    male                   Other  \n",
       "1      positive               No    male                   Other  \n",
       "2      positive              Yes  female  Contact with confirmed  \n",
       "3      positive               No    male                   Other  \n",
       "4      positive               No  female                   Other  "
      ]
     },
     "execution_count": 9,
     "metadata": {},
     "output_type": "execute_result"
    }
   ],
   "source": [
    "data1 = pd.read_csv(r'C:\\Users\\65164\\Desktop\\202026231_王耀正_covid数据集的可视化分析\\1.数据及分析源文件\\yangxing.csv')\n",
    "data1.head()"
   ]
  },
  {
   "cell_type": "code",
   "execution_count": 10,
   "metadata": {},
   "outputs": [
    {
     "data": {
      "image/png": "[encoded data removed]",
      "text/plain": [
       "<Figure size 432x288 with 1 Axes>"
      ]
     },
     "metadata": {},
     "output_type": "display_data"
    }
   ],
   "source": [
    "data1['age_60_and_above'].value_counts().plot(kind='pie',colors=['skyblue','yellow','pink'], autopct='%6.3f%%')\n",
    "plt.show()"
   ]
  },
  {
   "cell_type": "code",
   "execution_count": 11,
   "metadata": {
    "scrolled": false
   },
   "outputs": [
    {
     "data": {
      "image/png": "[encoded data removed]",
      "text/plain": [
       "<Figure size 432x288 with 1 Axes>"
      ]
     },
     "metadata": {},
     "output_type": "display_data"
    }
   ],
   "source": [
    "data['corona_result'].value_counts().plot(kind='pie',colors=['skyblue','yellow'], autopct='%6.3f%%')\n",
    "plt.show()"
   ]
  },
  {
   "cell_type": "markdown",
   "metadata": {},
   "source": [
    "### 检测结果"
   ]
  },
  {
   "cell_type": "code",
   "execution_count": 12,
   "metadata": {},
   "outputs": [
    {
     "data": {
      "image/png": "[encoded data removed]",
      "text/plain": [
       "<Figure size 432x288 with 1 Axes>"
      ]
     },
     "metadata": {
      "needs_background": "light"
     },
     "output_type": "display_data"
    }
   ],
   "source": [
    "plt.hist(data['corona_result'],color=['skyblue'], bins=3)\n",
    "plt.grid(linestyle='--', alpha=0.5, axis='y')\n",
    "plt.show()"
   ]
  },
  {
   "cell_type": "code",
   "execution_count": 13,
   "metadata": {},
   "outputs": [],
   "source": [
    "dist_columns = {'positive': '0',\n",
    "                'negative': '1'\n",
    "               }\n",
    "\n",
    "data['corona_result'] = data['corona_result'].map(dist_columns)"
   ]
  },
  {
   "cell_type": "code",
   "execution_count": 14,
   "metadata": {},
   "outputs": [
    {
     "data": {
      "text/html": [
       "<div>\n",
       "<style scoped>\n",
       "    .dataframe tbody tr th:only-of-type {\n",
       "        vertical-align: middle;\n",
       "    }\n",
       "\n",
       "    .dataframe tbody tr th {\n",
       "        vertical-align: top;\n",
       "    }\n",
       "\n",
       "    .dataframe thead th {\n",
       "        text-align: right;\n",
       "    }\n",
       "</style>\n",
       "<table border=\"1\" class=\"dataframe\">\n",
       "  <thead>\n",
       "    <tr style=\"text-align: right;\">\n",
       "      <th></th>\n",
       "      <th>test_date</th>\n",
       "      <th>cough</th>\n",
       "      <th>fever</th>\n",
       "      <th>sore_throat</th>\n",
       "      <th>shortness_of_breath</th>\n",
       "      <th>head_ache</th>\n",
       "      <th>corona_result</th>\n",
       "      <th>age_60_and_above</th>\n",
       "      <th>gender</th>\n",
       "      <th>test_indication</th>\n",
       "    </tr>\n",
       "  </thead>\n",
       "  <tbody>\n",
       "    <tr>\n",
       "      <th>0</th>\n",
       "      <td>2020/9/21</td>\n",
       "      <td>0</td>\n",
       "      <td>0</td>\n",
       "      <td>0</td>\n",
       "      <td>0</td>\n",
       "      <td>0</td>\n",
       "      <td>0</td>\n",
       "      <td>No</td>\n",
       "      <td>male</td>\n",
       "      <td>Other</td>\n",
       "    </tr>\n",
       "    <tr>\n",
       "      <th>1</th>\n",
       "      <td>2020/4/7</td>\n",
       "      <td>1</td>\n",
       "      <td>0</td>\n",
       "      <td>0</td>\n",
       "      <td>0</td>\n",
       "      <td>1</td>\n",
       "      <td>0</td>\n",
       "      <td>No</td>\n",
       "      <td>male</td>\n",
       "      <td>Other</td>\n",
       "    </tr>\n",
       "    <tr>\n",
       "      <th>2</th>\n",
       "      <td>2020/8/26</td>\n",
       "      <td>0</td>\n",
       "      <td>0</td>\n",
       "      <td>0</td>\n",
       "      <td>0</td>\n",
       "      <td>0</td>\n",
       "      <td>0</td>\n",
       "      <td>Yes</td>\n",
       "      <td>female</td>\n",
       "      <td>Contact with confirmed</td>\n",
       "    </tr>\n",
       "    <tr>\n",
       "      <th>3</th>\n",
       "      <td>2020/10/14</td>\n",
       "      <td>0</td>\n",
       "      <td>0</td>\n",
       "      <td>0</td>\n",
       "      <td>0</td>\n",
       "      <td>0</td>\n",
       "      <td>0</td>\n",
       "      <td>No</td>\n",
       "      <td>male</td>\n",
       "      <td>Other</td>\n",
       "    </tr>\n",
       "    <tr>\n",
       "      <th>4</th>\n",
       "      <td>2020/9/2</td>\n",
       "      <td>0</td>\n",
       "      <td>0</td>\n",
       "      <td>0</td>\n",
       "      <td>0</td>\n",
       "      <td>0</td>\n",
       "      <td>0</td>\n",
       "      <td>No</td>\n",
       "      <td>female</td>\n",
       "      <td>Other</td>\n",
       "    </tr>\n",
       "    <tr>\n",
       "      <th>...</th>\n",
       "      <td>...</td>\n",
       "      <td>...</td>\n",
       "      <td>...</td>\n",
       "      <td>...</td>\n",
       "      <td>...</td>\n",
       "      <td>...</td>\n",
       "      <td>...</td>\n",
       "      <td>...</td>\n",
       "      <td>...</td>\n",
       "      <td>...</td>\n",
       "    </tr>\n",
       "    <tr>\n",
       "      <th>399995</th>\n",
       "      <td>2020/7/22</td>\n",
       "      <td>0</td>\n",
       "      <td>0</td>\n",
       "      <td>0</td>\n",
       "      <td>0</td>\n",
       "      <td>0</td>\n",
       "      <td>0</td>\n",
       "      <td>No</td>\n",
       "      <td>male</td>\n",
       "      <td>Contact with confirmed</td>\n",
       "    </tr>\n",
       "    <tr>\n",
       "      <th>399996</th>\n",
       "      <td>2020/7/17</td>\n",
       "      <td>0</td>\n",
       "      <td>0</td>\n",
       "      <td>0</td>\n",
       "      <td>0</td>\n",
       "      <td>0</td>\n",
       "      <td>1</td>\n",
       "      <td>No</td>\n",
       "      <td>male</td>\n",
       "      <td>Other</td>\n",
       "    </tr>\n",
       "    <tr>\n",
       "      <th>399997</th>\n",
       "      <td>2020/8/28</td>\n",
       "      <td>0</td>\n",
       "      <td>0</td>\n",
       "      <td>0</td>\n",
       "      <td>0</td>\n",
       "      <td>0</td>\n",
       "      <td>1</td>\n",
       "      <td>No</td>\n",
       "      <td>male</td>\n",
       "      <td>Other</td>\n",
       "    </tr>\n",
       "    <tr>\n",
       "      <th>399998</th>\n",
       "      <td>2020/10/1</td>\n",
       "      <td>0</td>\n",
       "      <td>0</td>\n",
       "      <td>0</td>\n",
       "      <td>0</td>\n",
       "      <td>0</td>\n",
       "      <td>0</td>\n",
       "      <td>No</td>\n",
       "      <td>female</td>\n",
       "      <td>Other</td>\n",
       "    </tr>\n",
       "    <tr>\n",
       "      <th>399999</th>\n",
       "      <td>2020/4/6</td>\n",
       "      <td>1</td>\n",
       "      <td>1</td>\n",
       "      <td>0</td>\n",
       "      <td>0</td>\n",
       "      <td>1</td>\n",
       "      <td>0</td>\n",
       "      <td>No</td>\n",
       "      <td>female</td>\n",
       "      <td>Contact with confirmed</td>\n",
       "    </tr>\n",
       "  </tbody>\n",
       "</table>\n",
       "<p>400000 rows × 10 columns</p>\n",
       "</div>"
      ],
      "text/plain": [
       "         test_date  cough  fever  sore_throat  shortness_of_breath  head_ache  \\\n",
       "0        2020/9/21      0      0            0                    0          0   \n",
       "1         2020/4/7      1      0            0                    0          1   \n",
       "2        2020/8/26      0      0            0                    0          0   \n",
       "3       2020/10/14      0      0            0                    0          0   \n",
       "4         2020/9/2      0      0            0                    0          0   \n",
       "...            ...    ...    ...          ...                  ...        ...   \n",
       "399995   2020/7/22      0      0            0                    0          0   \n",
       "399996   2020/7/17      0      0            0                    0          0   \n",
       "399997   2020/8/28      0      0            0                    0          0   \n",
       "399998   2020/10/1      0      0            0                    0          0   \n",
       "399999    2020/4/6      1      1            0                    0          1   \n",
       "\n",
       "       corona_result age_60_and_above  gender         test_indication  \n",
       "0                  0               No    male                   Other  \n",
       "1                  0               No    male                   Other  \n",
       "2                  0              Yes  female  Contact with confirmed  \n",
       "3                  0               No    male                   Other  \n",
       "4                  0               No  female                   Other  \n",
       "...              ...              ...     ...                     ...  \n",
       "399995             0               No    male  Contact with confirmed  \n",
       "399996             1               No    male                   Other  \n",
       "399997             1               No    male                   Other  \n",
       "399998             0               No  female                   Other  \n",
       "399999             0               No  female  Contact with confirmed  \n",
       "\n",
       "[400000 rows x 10 columns]"
      ]
     },
     "execution_count": 14,
     "metadata": {},
     "output_type": "execute_result"
    }
   ],
   "source": [
    "data"
   ]
  },
  {
   "cell_type": "code",
   "execution_count": 15,
   "metadata": {},
   "outputs": [
    {
     "data": {
      "text/plain": [
       "0          2020/9/21\n",
       "1           2020/4/7\n",
       "2          2020/8/26\n",
       "3         2020/10/14\n",
       "4           2020/9/2\n",
       "             ...    \n",
       "399995     2020/7/22\n",
       "399996     2020/7/17\n",
       "399997     2020/8/28\n",
       "399998     2020/10/1\n",
       "399999      2020/4/6\n",
       "Name: test_date, Length: 400000, dtype: object"
      ]
     },
     "execution_count": 15,
     "metadata": {},
     "output_type": "execute_result"
    }
   ],
   "source": [
    "data_test = data.test_date\n",
    "data_test"
   ]
  },
  {
   "cell_type": "code",
   "execution_count": 16,
   "metadata": {},
   "outputs": [
    {
     "data": {
      "text/plain": [
       "0         positive\n",
       "1         positive\n",
       "2         positive\n",
       "3         positive\n",
       "4         positive\n",
       "            ...   \n",
       "220970    positive\n",
       "220971    positive\n",
       "220972    positive\n",
       "220973    positive\n",
       "220974    positive\n",
       "Name: corona_result, Length: 220975, dtype: object"
      ]
     },
     "execution_count": 16,
     "metadata": {},
     "output_type": "execute_result"
    }
   ],
   "source": [
    "data1.corona_result"
   ]
  },
  {
   "cell_type": "code",
   "execution_count": 17,
   "metadata": {},
   "outputs": [],
   "source": [
    "count = data1.groupby(['test_date']).count()\n"
   ]
  },
  {
   "cell_type": "code",
   "execution_count": 18,
   "metadata": {},
   "outputs": [
    {
     "data": {
      "image/png": "[encoded data removed]",
      "text/plain": [
       "<Figure size 1440x576 with 1 Axes>"
      ]
     },
     "metadata": {
      "needs_background": "light"
     },
     "output_type": "display_data"
    }
   ],
   "source": [
    "count['corona_result'].plot(kind='bar', figsize=(20, 8),color=['skyblue'])\n",
    "plt.title(\"阳性结果柱形图\")\n",
    "plt.xlabel(\"检测日期\")\n",
    "plt.ylabel(\"患者人数\")\n",
    "plt.show()\n"
   ]
  },
  {
   "cell_type": "code",
   "execution_count": 19,
   "metadata": {},
   "outputs": [
    {
     "data": {
      "text/html": [
       "<div>\n",
       "<style scoped>\n",
       "    .dataframe tbody tr th:only-of-type {\n",
       "        vertical-align: middle;\n",
       "    }\n",
       "\n",
       "    .dataframe tbody tr th {\n",
       "        vertical-align: top;\n",
       "    }\n",
       "\n",
       "    .dataframe thead th {\n",
       "        text-align: right;\n",
       "    }\n",
       "</style>\n",
       "<table border=\"1\" class=\"dataframe\">\n",
       "  <thead>\n",
       "    <tr style=\"text-align: right;\">\n",
       "      <th></th>\n",
       "      <th>test_date</th>\n",
       "      <th>cough</th>\n",
       "      <th>fever</th>\n",
       "      <th>sore_throat</th>\n",
       "      <th>shortness_of_breath</th>\n",
       "      <th>head_ache</th>\n",
       "      <th>corona_result</th>\n",
       "      <th>age_60_and_above</th>\n",
       "      <th>gender</th>\n",
       "      <th>test_indication</th>\n",
       "    </tr>\n",
       "  </thead>\n",
       "  <tbody>\n",
       "    <tr>\n",
       "      <th>0</th>\n",
       "      <td>2020/9/21</td>\n",
       "      <td>0</td>\n",
       "      <td>0</td>\n",
       "      <td>0</td>\n",
       "      <td>0</td>\n",
       "      <td>0</td>\n",
       "      <td>0</td>\n",
       "      <td>No</td>\n",
       "      <td>male</td>\n",
       "      <td>Other</td>\n",
       "    </tr>\n",
       "    <tr>\n",
       "      <th>1</th>\n",
       "      <td>2020/4/7</td>\n",
       "      <td>1</td>\n",
       "      <td>0</td>\n",
       "      <td>0</td>\n",
       "      <td>0</td>\n",
       "      <td>1</td>\n",
       "      <td>0</td>\n",
       "      <td>No</td>\n",
       "      <td>male</td>\n",
       "      <td>Other</td>\n",
       "    </tr>\n",
       "    <tr>\n",
       "      <th>2</th>\n",
       "      <td>2020/8/26</td>\n",
       "      <td>0</td>\n",
       "      <td>0</td>\n",
       "      <td>0</td>\n",
       "      <td>0</td>\n",
       "      <td>0</td>\n",
       "      <td>0</td>\n",
       "      <td>Yes</td>\n",
       "      <td>female</td>\n",
       "      <td>Contact with confirmed</td>\n",
       "    </tr>\n",
       "    <tr>\n",
       "      <th>3</th>\n",
       "      <td>2020/10/14</td>\n",
       "      <td>0</td>\n",
       "      <td>0</td>\n",
       "      <td>0</td>\n",
       "      <td>0</td>\n",
       "      <td>0</td>\n",
       "      <td>0</td>\n",
       "      <td>No</td>\n",
       "      <td>male</td>\n",
       "      <td>Other</td>\n",
       "    </tr>\n",
       "    <tr>\n",
       "      <th>4</th>\n",
       "      <td>2020/9/2</td>\n",
       "      <td>0</td>\n",
       "      <td>0</td>\n",
       "      <td>0</td>\n",
       "      <td>0</td>\n",
       "      <td>0</td>\n",
       "      <td>0</td>\n",
       "      <td>No</td>\n",
       "      <td>female</td>\n",
       "      <td>Other</td>\n",
       "    </tr>\n",
       "    <tr>\n",
       "      <th>...</th>\n",
       "      <td>...</td>\n",
       "      <td>...</td>\n",
       "      <td>...</td>\n",
       "      <td>...</td>\n",
       "      <td>...</td>\n",
       "      <td>...</td>\n",
       "      <td>...</td>\n",
       "      <td>...</td>\n",
       "      <td>...</td>\n",
       "      <td>...</td>\n",
       "    </tr>\n",
       "    <tr>\n",
       "      <th>399995</th>\n",
       "      <td>2020/7/22</td>\n",
       "      <td>0</td>\n",
       "      <td>0</td>\n",
       "      <td>0</td>\n",
       "      <td>0</td>\n",
       "      <td>0</td>\n",
       "      <td>0</td>\n",
       "      <td>No</td>\n",
       "      <td>male</td>\n",
       "      <td>Contact with confirmed</td>\n",
       "    </tr>\n",
       "    <tr>\n",
       "      <th>399996</th>\n",
       "      <td>2020/7/17</td>\n",
       "      <td>0</td>\n",
       "      <td>0</td>\n",
       "      <td>0</td>\n",
       "      <td>0</td>\n",
       "      <td>0</td>\n",
       "      <td>1</td>\n",
       "      <td>No</td>\n",
       "      <td>male</td>\n",
       "      <td>Other</td>\n",
       "    </tr>\n",
       "    <tr>\n",
       "      <th>399997</th>\n",
       "      <td>2020/8/28</td>\n",
       "      <td>0</td>\n",
       "      <td>0</td>\n",
       "      <td>0</td>\n",
       "      <td>0</td>\n",
       "      <td>0</td>\n",
       "      <td>1</td>\n",
       "      <td>No</td>\n",
       "      <td>male</td>\n",
       "      <td>Other</td>\n",
       "    </tr>\n",
       "    <tr>\n",
       "      <th>399998</th>\n",
       "      <td>2020/10/1</td>\n",
       "      <td>0</td>\n",
       "      <td>0</td>\n",
       "      <td>0</td>\n",
       "      <td>0</td>\n",
       "      <td>0</td>\n",
       "      <td>0</td>\n",
       "      <td>No</td>\n",
       "      <td>female</td>\n",
       "      <td>Other</td>\n",
       "    </tr>\n",
       "    <tr>\n",
       "      <th>399999</th>\n",
       "      <td>2020/4/6</td>\n",
       "      <td>1</td>\n",
       "      <td>1</td>\n",
       "      <td>0</td>\n",
       "      <td>0</td>\n",
       "      <td>1</td>\n",
       "      <td>0</td>\n",
       "      <td>No</td>\n",
       "      <td>female</td>\n",
       "      <td>Contact with confirmed</td>\n",
       "    </tr>\n",
       "  </tbody>\n",
       "</table>\n",
       "<p>400000 rows × 10 columns</p>\n",
       "</div>"
      ],
      "text/plain": [
       "         test_date  cough  fever  sore_throat  shortness_of_breath  head_ache  \\\n",
       "0        2020/9/21      0      0            0                    0          0   \n",
       "1         2020/4/7      1      0            0                    0          1   \n",
       "2        2020/8/26      0      0            0                    0          0   \n",
       "3       2020/10/14      0      0            0                    0          0   \n",
       "4         2020/9/2      0      0            0                    0          0   \n",
       "...            ...    ...    ...          ...                  ...        ...   \n",
       "399995   2020/7/22      0      0            0                    0          0   \n",
       "399996   2020/7/17      0      0            0                    0          0   \n",
       "399997   2020/8/28      0      0            0                    0          0   \n",
       "399998   2020/10/1      0      0            0                    0          0   \n",
       "399999    2020/4/6      1      1            0                    0          1   \n",
       "\n",
       "       corona_result age_60_and_above  gender         test_indication  \n",
       "0                  0               No    male                   Other  \n",
       "1                  0               No    male                   Other  \n",
       "2                  0              Yes  female  Contact with confirmed  \n",
       "3                  0               No    male                   Other  \n",
       "4                  0               No  female                   Other  \n",
       "...              ...              ...     ...                     ...  \n",
       "399995             0               No    male  Contact with confirmed  \n",
       "399996             1               No    male                   Other  \n",
       "399997             1               No    male                   Other  \n",
       "399998             0               No  female                   Other  \n",
       "399999             0               No  female  Contact with confirmed  \n",
       "\n",
       "[400000 rows x 10 columns]"
      ]
     },
     "execution_count": 19,
     "metadata": {},
     "output_type": "execute_result"
    }
   ],
   "source": [
    "data"
   ]
  },
  {
   "cell_type": "code",
   "execution_count": 20,
   "metadata": {},
   "outputs": [
    {
     "name": "stdout",
     "output_type": "stream",
     "text": [
      "咳嗽和检测结果的关系:\n",
      "corona_result       0       1\n",
      "cough                        \n",
      "0              178466  174105\n",
      "1               42509    4920\n"
     ]
    },
    {
     "data": {
      "image/png": "[encoded data removed]",
      "text/plain": [
       "<Figure size 432x288 with 1 Axes>"
      ]
     },
     "metadata": {
      "needs_background": "light"
     },
     "output_type": "display_data"
    }
   ],
   "source": [
    "sub_sch = pd.crosstab(data.cough, data.corona_result)\n",
    "print('咳嗽和检测结果的关系:')\n",
    "print(sub_sch)\n",
    "sub_sch.div(sub_sch.sum(1), axis=0).plot(kind='bar',color=['yellow','skyblue'], stacked=True)\n",
    "plt.title(\"咳嗽和检测结果\")\n",
    "plt.show()"
   ]
  },
  {
   "cell_type": "code",
   "execution_count": 21,
   "metadata": {},
   "outputs": [
    {
     "name": "stdout",
     "output_type": "stream",
     "text": [
      "发烧和检测结果的关系:\n",
      "corona_result       0       1\n",
      "fever                        \n",
      "0              170522  175732\n",
      "1               50453    3293\n"
     ]
    },
    {
     "data": {
      "image/png": "[encoded data removed]",
      "text/plain": [
       "<Figure size 432x288 with 1 Axes>"
      ]
     },
     "metadata": {
      "needs_background": "light"
     },
     "output_type": "display_data"
    }
   ],
   "source": [
    "sub_sch = pd.crosstab(data.fever, data.corona_result)\n",
    "print('发烧和检测结果的关系:')\n",
    "print(sub_sch)\n",
    "sub_sch.div(sub_sch.sum(1), axis=0).plot(kind='bar',color=['yellow','skyblue'], stacked=True)\n",
    "plt.title(\"发烧和检测结果\")\n",
    "plt.show()"
   ]
  },
  {
   "cell_type": "code",
   "execution_count": 22,
   "metadata": {},
   "outputs": [
    {
     "name": "stdout",
     "output_type": "stream",
     "text": [
      "喉咙痛和检测结果的关系:\n",
      "corona_result       0       1\n",
      "sore_throat                  \n",
      "0              200497  178367\n",
      "1               20478     658\n"
     ]
    },
    {
     "data": {
      "image/png": "[encoded data removed]",
      "text/plain": [
       "<Figure size 432x288 with 1 Axes>"
      ]
     },
     "metadata": {
      "needs_background": "light"
     },
     "output_type": "display_data"
    }
   ],
   "source": [
    "sub_sch = pd.crosstab(data.sore_throat, data.corona_result)\n",
    "print('喉咙痛和检测结果的关系:')\n",
    "print(sub_sch)\n",
    "sub_sch.div(sub_sch.sum(1), axis=0).plot(kind='bar',color=['yellow','skyblue'], stacked=True)\n",
    "plt.title(\"喉咙痛和检测结果\")\n",
    "plt.show()"
   ]
  },
  {
   "cell_type": "code",
   "execution_count": 23,
   "metadata": {},
   "outputs": [
    {
     "name": "stdout",
     "output_type": "stream",
     "text": [
      "气促和检测结果的关系:\n",
      "corona_result             0       1\n",
      "shortness_of_breath                \n",
      "0                    213517  178767\n",
      "1                      7458     258\n"
     ]
    },
    {
     "data": {
      "image/png": "[encoded data removed]",
      "text/plain": [
       "<Figure size 432x288 with 1 Axes>"
      ]
     },
     "metadata": {
      "needs_background": "light"
     },
     "output_type": "display_data"
    }
   ],
   "source": [
    "sub_sch = pd.crosstab(data.shortness_of_breath, data.corona_result)\n",
    "print('气促和检测结果的关系:')\n",
    "print(sub_sch)\n",
    "sub_sch.div(sub_sch.sum(1), axis=0).plot(kind='bar',color=['yellow','skyblue'], stacked=True)\n",
    "plt.title(\"气促和检测结果\")\n",
    "plt.show()"
   ]
  },
  {
   "cell_type": "code",
   "execution_count": 24,
   "metadata": {},
   "outputs": [
    {
     "name": "stdout",
     "output_type": "stream",
     "text": [
      "头痛和检测结果的关系:\n",
      "corona_result       0       1\n",
      "head_ache                    \n",
      "0              179437  177725\n",
      "1               41538    1300\n"
     ]
    },
    {
     "data": {
      "image/png": "[encoded data removed]",
      "text/plain": [
       "<Figure size 432x288 with 1 Axes>"
      ]
     },
     "metadata": {
      "needs_background": "light"
     },
     "output_type": "display_data"
    }
   ],
   "source": [
    "sub_sch = pd.crosstab(data.head_ache, data.corona_result)\n",
    "print('头痛和检测结果的关系:')\n",
    "print(sub_sch)\n",
    "sub_sch.div(sub_sch.sum(1), axis=0).plot(kind='bar',color=['yellow','skyblue'], stacked=True)\n",
    "plt.title(\"头痛和检测结果\")\n",
    "plt.show()"
   ]
  },
  {
   "cell_type": "code",
   "execution_count": 25,
   "metadata": {},
   "outputs": [
    {
     "name": "stdout",
     "output_type": "stream",
     "text": [
      "测试者状况和检测结果的关系:\n",
      "corona_result                0       1\n",
      "test_indication                       \n",
      "Abroad                    1999    1603\n",
      "Contact with confirmed   98345    4873\n",
      "Other                   120631  172549\n"
     ]
    },
    {
     "data": {
      "image/png": "[encoded data removed]",
      "text/plain": [
       "<Figure size 432x288 with 1 Axes>"
      ]
     },
     "metadata": {
      "needs_background": "light"
     },
     "output_type": "display_data"
    }
   ],
   "source": [
    "sub_sch = pd.crosstab(data.test_indication, data.corona_result)\n",
    "print('测试者状况和检测结果的关系:')\n",
    "print(sub_sch)\n",
    "sub_sch.div(sub_sch.sum(1), axis=0).plot(kind='bar',color=['yellow','skyblue'], stacked=True)\n",
    "plt.title(\"测试者状况和检测结果\")\n",
    "plt.show()"
   ]
  },
  {
   "cell_type": "code",
   "execution_count": 26,
   "metadata": {},
   "outputs": [
    {
     "name": "stdout",
     "output_type": "stream",
     "text": [
      "男性女性和检测结果的关系:\n",
      "corona_result       0      1\n",
      "gender                      \n",
      "female         106109  89718\n",
      "male           113572  82849\n",
      "unkown           1294   6458\n"
     ]
    },
    {
     "data": {
      "image/png": "[encoded data removed]",
      "text/plain": [
       "<Figure size 432x288 with 1 Axes>"
      ]
     },
     "metadata": {
      "needs_background": "light"
     },
     "output_type": "display_data"
    }
   ],
   "source": [
    "sub_sch = pd.crosstab(data.gender, data.corona_result)\n",
    "print('男性女性和检测结果的关系:')\n",
    "print(sub_sch)\n",
    "sub_sch.div(sub_sch.sum(1), axis=0).plot(kind='bar',color=['yellow','skyblue'], stacked=True)\n",
    "plt.title(\"男性女性和检测结果\")\n",
    "plt.show()"
   ]
  },
  {
   "cell_type": "markdown",
   "metadata": {},
   "source": [
    "### 随机抽取2000条数据"
   ]
  },
  {
   "cell_type": "code",
   "execution_count": 134,
   "metadata": {},
   "outputs": [
    {
     "data": {
      "text/html": [
       "<div>\n",
       "<style scoped>\n",
       "    .dataframe tbody tr th:only-of-type {\n",
       "        vertical-align: middle;\n",
       "    }\n",
       "\n",
       "    .dataframe tbody tr th {\n",
       "        vertical-align: top;\n",
       "    }\n",
       "\n",
       "    .dataframe thead th {\n",
       "        text-align: right;\n",
       "    }\n",
       "</style>\n",
       "<table border=\"1\" class=\"dataframe\">\n",
       "  <thead>\n",
       "    <tr style=\"text-align: right;\">\n",
       "      <th></th>\n",
       "      <th>Unnamed: 0</th>\n",
       "      <th>test_date</th>\n",
       "      <th>cough</th>\n",
       "      <th>fever</th>\n",
       "      <th>sore_throat</th>\n",
       "      <th>shortness_of_breath</th>\n",
       "      <th>head_ache</th>\n",
       "      <th>corona_result</th>\n",
       "      <th>age_60_and_above</th>\n",
       "      <th>gender</th>\n",
       "      <th>test_indication</th>\n",
       "    </tr>\n",
       "  </thead>\n",
       "  <tbody>\n",
       "    <tr>\n",
       "      <th>0</th>\n",
       "      <td>22331</td>\n",
       "      <td>2020/10/28</td>\n",
       "      <td>0</td>\n",
       "      <td>0</td>\n",
       "      <td>0</td>\n",
       "      <td>0</td>\n",
       "      <td>1</td>\n",
       "      <td>positive</td>\n",
       "      <td>No</td>\n",
       "      <td>female</td>\n",
       "      <td>Contact with confirmed</td>\n",
       "    </tr>\n",
       "    <tr>\n",
       "      <th>1</th>\n",
       "      <td>200650</td>\n",
       "      <td>2020/7/30</td>\n",
       "      <td>1</td>\n",
       "      <td>0</td>\n",
       "      <td>1</td>\n",
       "      <td>1</td>\n",
       "      <td>1</td>\n",
       "      <td>positive</td>\n",
       "      <td>No</td>\n",
       "      <td>female</td>\n",
       "      <td>Contact with confirmed</td>\n",
       "    </tr>\n",
       "    <tr>\n",
       "      <th>2</th>\n",
       "      <td>195160</td>\n",
       "      <td>2020/9/26</td>\n",
       "      <td>0</td>\n",
       "      <td>0</td>\n",
       "      <td>0</td>\n",
       "      <td>0</td>\n",
       "      <td>0</td>\n",
       "      <td>positive</td>\n",
       "      <td>No</td>\n",
       "      <td>female</td>\n",
       "      <td>Other</td>\n",
       "    </tr>\n",
       "    <tr>\n",
       "      <th>3</th>\n",
       "      <td>13198</td>\n",
       "      <td>2020/9/5</td>\n",
       "      <td>0</td>\n",
       "      <td>0</td>\n",
       "      <td>0</td>\n",
       "      <td>0</td>\n",
       "      <td>0</td>\n",
       "      <td>positive</td>\n",
       "      <td>No</td>\n",
       "      <td>male</td>\n",
       "      <td>Other</td>\n",
       "    </tr>\n",
       "    <tr>\n",
       "      <th>4</th>\n",
       "      <td>174707</td>\n",
       "      <td>2020/9/6</td>\n",
       "      <td>0</td>\n",
       "      <td>1</td>\n",
       "      <td>0</td>\n",
       "      <td>0</td>\n",
       "      <td>0</td>\n",
       "      <td>positive</td>\n",
       "      <td>No</td>\n",
       "      <td>female</td>\n",
       "      <td>Other</td>\n",
       "    </tr>\n",
       "    <tr>\n",
       "      <th>...</th>\n",
       "      <td>...</td>\n",
       "      <td>...</td>\n",
       "      <td>...</td>\n",
       "      <td>...</td>\n",
       "      <td>...</td>\n",
       "      <td>...</td>\n",
       "      <td>...</td>\n",
       "      <td>...</td>\n",
       "      <td>...</td>\n",
       "      <td>...</td>\n",
       "      <td>...</td>\n",
       "    </tr>\n",
       "    <tr>\n",
       "      <th>2205</th>\n",
       "      <td>118430</td>\n",
       "      <td>2020/11/9</td>\n",
       "      <td>1</td>\n",
       "      <td>1</td>\n",
       "      <td>0</td>\n",
       "      <td>0</td>\n",
       "      <td>0</td>\n",
       "      <td>positive</td>\n",
       "      <td>No</td>\n",
       "      <td>male</td>\n",
       "      <td>Other</td>\n",
       "    </tr>\n",
       "    <tr>\n",
       "      <th>2206</th>\n",
       "      <td>167776</td>\n",
       "      <td>2020/10/2</td>\n",
       "      <td>0</td>\n",
       "      <td>0</td>\n",
       "      <td>0</td>\n",
       "      <td>0</td>\n",
       "      <td>0</td>\n",
       "      <td>positive</td>\n",
       "      <td>No</td>\n",
       "      <td>male</td>\n",
       "      <td>Contact with confirmed</td>\n",
       "    </tr>\n",
       "    <tr>\n",
       "      <th>2207</th>\n",
       "      <td>16160</td>\n",
       "      <td>2020/9/24</td>\n",
       "      <td>0</td>\n",
       "      <td>0</td>\n",
       "      <td>0</td>\n",
       "      <td>0</td>\n",
       "      <td>0</td>\n",
       "      <td>positive</td>\n",
       "      <td>No</td>\n",
       "      <td>female</td>\n",
       "      <td>Other</td>\n",
       "    </tr>\n",
       "    <tr>\n",
       "      <th>2208</th>\n",
       "      <td>182699</td>\n",
       "      <td>2020/9/25</td>\n",
       "      <td>0</td>\n",
       "      <td>0</td>\n",
       "      <td>0</td>\n",
       "      <td>0</td>\n",
       "      <td>0</td>\n",
       "      <td>positive</td>\n",
       "      <td>No</td>\n",
       "      <td>female</td>\n",
       "      <td>Other</td>\n",
       "    </tr>\n",
       "    <tr>\n",
       "      <th>2209</th>\n",
       "      <td>151101</td>\n",
       "      <td>2020/9/13</td>\n",
       "      <td>0</td>\n",
       "      <td>1</td>\n",
       "      <td>0</td>\n",
       "      <td>0</td>\n",
       "      <td>1</td>\n",
       "      <td>positive</td>\n",
       "      <td>No</td>\n",
       "      <td>male</td>\n",
       "      <td>Other</td>\n",
       "    </tr>\n",
       "  </tbody>\n",
       "</table>\n",
       "<p>2210 rows × 11 columns</p>\n",
       "</div>"
      ],
      "text/plain": [
       "      Unnamed: 0   test_date  cough  fever  sore_throat  shortness_of_breath  \\\n",
       "0          22331  2020/10/28      0      0            0                    0   \n",
       "1         200650   2020/7/30      1      0            1                    1   \n",
       "2         195160   2020/9/26      0      0            0                    0   \n",
       "3          13198    2020/9/5      0      0            0                    0   \n",
       "4         174707    2020/9/6      0      1            0                    0   \n",
       "...          ...         ...    ...    ...          ...                  ...   \n",
       "2205      118430   2020/11/9      1      1            0                    0   \n",
       "2206      167776   2020/10/2      0      0            0                    0   \n",
       "2207       16160   2020/9/24      0      0            0                    0   \n",
       "2208      182699   2020/9/25      0      0            0                    0   \n",
       "2209      151101   2020/9/13      0      1            0                    0   \n",
       "\n",
       "      head_ache corona_result age_60_and_above  gender         test_indication  \n",
       "0             1      positive               No  female  Contact with confirmed  \n",
       "1             1      positive               No  female  Contact with confirmed  \n",
       "2             0      positive               No  female                   Other  \n",
       "3             0      positive               No    male                   Other  \n",
       "4             0      positive               No  female                   Other  \n",
       "...         ...           ...              ...     ...                     ...  \n",
       "2205          0      positive               No    male                   Other  \n",
       "2206          0      positive               No    male  Contact with confirmed  \n",
       "2207          0      positive               No  female                   Other  \n",
       "2208          0      positive               No  female                   Other  \n",
       "2209          1      positive               No    male                   Other  \n",
       "\n",
       "[2210 rows x 11 columns]"
      ]
     },
     "execution_count": 134,
     "metadata": {},
     "output_type": "execute_result"
    }
   ],
   "source": [
    "import pandas as pd\n",
    "data = pd.read_csv(r'C:\\Users\\65164\\Desktop\\202026231_王耀正_covid数据集的可视化分析\\1.数据及分析源文件/yangxing.csv')\n",
    "\n",
    "# df.sample(n=None, frac=None, replace=False, weights=None, random_state=None, axis=None)\n",
    "# n = number of rows(optional, cannot be used with frac) 抽取的行数；\n",
    "# frac = fraction/proportion(optional, cannot be used with n) 抽取的比例；\n",
    "# replace = Allow or disallow sampling of the same row more than once (boolean, default False) 是否为有放回抽样；\n",
    "# weights (str or ndarray-like, optional) 权重\n",
    "# random_state (int to use as interval, or call np.random.get_state(), optional) 整数作为间隔，或者调用np.random.get_state()\n",
    "# axis = extract row or column (0->row, 1->column) 抽取行还是列（0是行，1是列）\n",
    "\n",
    "# random select 10% from dataset\n",
    "sample = data.sample(frac=0.01, random_state=5, axis=0)\n",
    "# export to csv file\n",
    "sample.to_csv(r'C:\\Users\\65164\\Desktop\\202026231_王耀正_covid数据集的可视化分析\\1.数据及分析源文件\\kfjy.csv',encoding='utf_8_sig')\n",
    "bb= pd.read_csv(r'C:\\Users\\65164\\Desktop\\202026231_王耀正_covid数据集的可视化分析\\1.数据及分析源文件\\kfjy.csv')\n",
    "bb"
   ]
  },
  {
   "cell_type": "markdown",
   "metadata": {},
   "source": [
    "## 卡方检验\n",
    "   ### 出现症状得病\n",
    "   ### 出现症状不得病"
   ]
  },
  {
   "cell_type": "markdown",
   "metadata": {},
   "source": [
    "### 假设检验"
   ]
  },
  {
   "cell_type": "markdown",
   "metadata": {},
   "source": [
    "## 咳嗽检验"
   ]
  },
  {
   "cell_type": "code",
   "execution_count": 135,
   "metadata": {},
   "outputs": [],
   "source": [
    "cough_negative = len(bb[bb['cough'] == 1])#检测结果为阴性\n",
    "cough_positive = len(bb[bb['cough'] == 0])#检测结果为阳性"
   ]
  },
  {
   "cell_type": "code",
   "execution_count": 136,
   "metadata": {},
   "outputs": [
    {
     "data": {
      "text/html": [
       "<div>\n",
       "<style scoped>\n",
       "    .dataframe tbody tr th:only-of-type {\n",
       "        vertical-align: middle;\n",
       "    }\n",
       "\n",
       "    .dataframe tbody tr th {\n",
       "        vertical-align: top;\n",
       "    }\n",
       "\n",
       "    .dataframe thead th {\n",
       "        text-align: right;\n",
       "    }\n",
       "</style>\n",
       "<table border=\"1\" class=\"dataframe\">\n",
       "  <thead>\n",
       "    <tr style=\"text-align: right;\">\n",
       "      <th></th>\n",
       "      <th>cough</th>\n",
       "    </tr>\n",
       "  </thead>\n",
       "  <tbody>\n",
       "    <tr>\n",
       "      <th>negative</th>\n",
       "      <td>422</td>\n",
       "    </tr>\n",
       "    <tr>\n",
       "      <th>positive</th>\n",
       "      <td>1788</td>\n",
       "    </tr>\n",
       "  </tbody>\n",
       "</table>\n",
       "</div>"
      ],
      "text/plain": [
       "          cough\n",
       "negative    422\n",
       "positive   1788"
      ]
     },
     "execution_count": 136,
     "metadata": {},
     "output_type": "execute_result"
    }
   ],
   "source": [
    "observed = pd.DataFrame({'cough': {'negative': cough_negative, 'positive':cough_positive}})\n",
    "observed"
   ]
  },
  {
   "cell_type": "code",
   "execution_count": 137,
   "metadata": {},
   "outputs": [
    {
     "data": {
      "text/plain": [
       "0.19095022624434388"
      ]
     },
     "execution_count": 137,
     "metadata": {},
     "output_type": "execute_result"
    }
   ],
   "source": [
    "negative = cough_negative\n",
    "positive = cough_positive\n",
    "rate_of_negative =negative / (negative +positive)\n",
    "rate_of_negative"
   ]
  },
  {
   "cell_type": "code",
   "execution_count": 138,
   "metadata": {},
   "outputs": [
    {
     "name": "stdout",
     "output_type": "stream",
     "text": [
      "422.0\n",
      "1788.0\n"
     ]
    }
   ],
   "source": [
    "expected_negative = len(bb)  * rate_of_negative\n",
    "expected_positive = len(bb)  * (1 - rate_of_negative)\n",
    "print(expected_negative)\n",
    "print(expected_positive)"
   ]
  },
  {
   "cell_type": "code",
   "execution_count": 139,
   "metadata": {},
   "outputs": [
    {
     "data": {
      "text/plain": [
       "Power_divergenceResult(statistic=0.0, pvalue=1.0)"
      ]
     },
     "execution_count": 139,
     "metadata": {},
     "output_type": "execute_result"
    }
   ],
   "source": [
    "import scipy.stats as stats\n",
    "#观测值\n",
    "observed_frequencies = [cough_positive,cough_negative]\n",
    "#期望值\n",
    "expected_frequencies = [expected_positive, expected_negative]\n",
    "#卡方检验\n",
    "stats.chisquare(f_obs = observed_frequencies,\n",
    "                f_exp = expected_frequencies)\n",
    "#    kf = chi2_contingency(observed_frequencies)\n",
    "#print('chisq-statistic=%.4f, p-value=%.4f, df=%i expected_frep=%s'%kf)"
   ]
  },
  {
   "cell_type": "markdown",
   "metadata": {},
   "source": [
    "## 发烧检验"
   ]
  },
  {
   "cell_type": "code",
   "execution_count": 140,
   "metadata": {},
   "outputs": [],
   "source": [
    "fever_negative = len(bb[bb['fever'] == 1])#检测结果为阴性\n",
    "fever_positive = len(bb[bb['fever'] == 0])#检测结果为阳性"
   ]
  },
  {
   "cell_type": "code",
   "execution_count": 141,
   "metadata": {},
   "outputs": [
    {
     "data": {
      "text/html": [
       "<div>\n",
       "<style scoped>\n",
       "    .dataframe tbody tr th:only-of-type {\n",
       "        vertical-align: middle;\n",
       "    }\n",
       "\n",
       "    .dataframe tbody tr th {\n",
       "        vertical-align: top;\n",
       "    }\n",
       "\n",
       "    .dataframe thead th {\n",
       "        text-align: right;\n",
       "    }\n",
       "</style>\n",
       "<table border=\"1\" class=\"dataframe\">\n",
       "  <thead>\n",
       "    <tr style=\"text-align: right;\">\n",
       "      <th></th>\n",
       "      <th>fever</th>\n",
       "    </tr>\n",
       "  </thead>\n",
       "  <tbody>\n",
       "    <tr>\n",
       "      <th>negative</th>\n",
       "      <td>517</td>\n",
       "    </tr>\n",
       "    <tr>\n",
       "      <th>positive</th>\n",
       "      <td>1693</td>\n",
       "    </tr>\n",
       "  </tbody>\n",
       "</table>\n",
       "</div>"
      ],
      "text/plain": [
       "          fever\n",
       "negative    517\n",
       "positive   1693"
      ]
     },
     "execution_count": 141,
     "metadata": {},
     "output_type": "execute_result"
    }
   ],
   "source": [
    "observed = pd.DataFrame({'fever': {'negative': fever_negative, 'positive':fever_positive}})\n",
    "observed"
   ]
  },
  {
   "cell_type": "code",
   "execution_count": 142,
   "metadata": {},
   "outputs": [
    {
     "data": {
      "text/plain": [
       "0.2339366515837104"
      ]
     },
     "execution_count": 142,
     "metadata": {},
     "output_type": "execute_result"
    }
   ],
   "source": [
    "negative = fever_negative\n",
    "positive =fever_positive\n",
    "rate_of_negative =negative / (negative +positive)\n",
    "rate_of_negative"
   ]
  },
  {
   "cell_type": "code",
   "execution_count": 143,
   "metadata": {},
   "outputs": [
    {
     "name": "stdout",
     "output_type": "stream",
     "text": [
      "517.0\n",
      "1692.9999999999998\n"
     ]
    }
   ],
   "source": [
    "expected_negative = len(bb)  * rate_of_negative\n",
    "expected_positive = len(bb)  * (1 - rate_of_negative)\n",
    "\n",
    "print(expected_negative)\n",
    "print(expected_positive)"
   ]
  },
  {
   "cell_type": "code",
   "execution_count": 144,
   "metadata": {},
   "outputs": [
    {
     "data": {
      "text/plain": [
       "Power_divergenceResult(statistic=3.0536791662471494e-29, pvalue=0.9999999999999956)"
      ]
     },
     "execution_count": 144,
     "metadata": {},
     "output_type": "execute_result"
    }
   ],
   "source": [
    "import scipy.stats as stats\n",
    "#观测值\n",
    "observed_frequencies = [fever_positive,fever_negative]\n",
    "#期望值\n",
    "expected_frequencies = [expected_positive, expected_negative]\n",
    "#卡方检验\n",
    "stats.chisquare(f_obs = observed_frequencies,\n",
    "                f_exp = expected_frequencies)\n",
    "#    kf = chi2_contingency(observed_frequencies)\n",
    "#print('chisq-statistic=%.4f, p-value=%.4f, df=%i expected_frep=%s'%kf)"
   ]
  },
  {
   "cell_type": "markdown",
   "metadata": {},
   "source": [
    "## 喉咙痛检验"
   ]
  },
  {
   "cell_type": "code",
   "execution_count": 145,
   "metadata": {},
   "outputs": [],
   "source": [
    "sore_throat_negative = len(bb[bb['sore_throat'] == 1])#检测结果为阴性\n",
    "sore_throat_positive = len(bb[bb['sore_throat'] == 0])#检测结果为阳性"
   ]
  },
  {
   "cell_type": "code",
   "execution_count": 146,
   "metadata": {},
   "outputs": [
    {
     "data": {
      "text/html": [
       "<div>\n",
       "<style scoped>\n",
       "    .dataframe tbody tr th:only-of-type {\n",
       "        vertical-align: middle;\n",
       "    }\n",
       "\n",
       "    .dataframe tbody tr th {\n",
       "        vertical-align: top;\n",
       "    }\n",
       "\n",
       "    .dataframe thead th {\n",
       "        text-align: right;\n",
       "    }\n",
       "</style>\n",
       "<table border=\"1\" class=\"dataframe\">\n",
       "  <thead>\n",
       "    <tr style=\"text-align: right;\">\n",
       "      <th></th>\n",
       "      <th>sore_throat</th>\n",
       "    </tr>\n",
       "  </thead>\n",
       "  <tbody>\n",
       "    <tr>\n",
       "      <th>negative</th>\n",
       "      <td>213</td>\n",
       "    </tr>\n",
       "    <tr>\n",
       "      <th>positive</th>\n",
       "      <td>1997</td>\n",
       "    </tr>\n",
       "  </tbody>\n",
       "</table>\n",
       "</div>"
      ],
      "text/plain": [
       "          sore_throat\n",
       "negative          213\n",
       "positive         1997"
      ]
     },
     "execution_count": 146,
     "metadata": {},
     "output_type": "execute_result"
    }
   ],
   "source": [
    "observed = pd.DataFrame({'sore_throat': {'negative': sore_throat_negative, 'positive':sore_throat_positive}})\n",
    "observed"
   ]
  },
  {
   "cell_type": "code",
   "execution_count": 147,
   "metadata": {},
   "outputs": [
    {
     "data": {
      "text/plain": [
       "0.09638009049773756"
      ]
     },
     "execution_count": 147,
     "metadata": {},
     "output_type": "execute_result"
    }
   ],
   "source": [
    "negative = sore_throat_negative\n",
    "positive =sore_throat_positive\n",
    "rate_of_negative =negative / (negative +positive)\n",
    "rate_of_negative"
   ]
  },
  {
   "cell_type": "code",
   "execution_count": 148,
   "metadata": {},
   "outputs": [
    {
     "name": "stdout",
     "output_type": "stream",
     "text": [
      "213.0\n",
      "1997.0\n"
     ]
    }
   ],
   "source": [
    "expected_negative1 = len(bb)  * rate_of_negative\n",
    "expected_positive1 = len(bb)  * (1 - rate_of_negative)\n",
    "\n",
    "print(expected_negative1)\n",
    "print(expected_positive1)"
   ]
  },
  {
   "cell_type": "code",
   "execution_count": 149,
   "metadata": {},
   "outputs": [
    {
     "data": {
      "text/plain": [
       "Power_divergenceResult(statistic=16535.765526223608, pvalue=0.0)"
      ]
     },
     "execution_count": 149,
     "metadata": {},
     "output_type": "execute_result"
    }
   ],
   "source": [
    "import scipy.stats as stats\n",
    "#观测值\n",
    "observed_frequencies1 = [sore_throat_negative,sore_throat_positive]\n",
    "#期望值\n",
    "expected_frequencies1 = [expected_positive1, expected_negative1]\n",
    "#卡方检验\n",
    "stats.chisquare(f_obs = observed_frequencies1,\n",
    "                f_exp = expected_frequencies1)\n",
    "#    kf = chi2_contingency(observed_frequencies)\n",
    "#print('chisq-statistic=%.4f, p-value=%.4f, df=%i expected_frep=%s'%kf)"
   ]
  },
  {
   "cell_type": "markdown",
   "metadata": {},
   "source": [
    "## 身体状况检验"
   ]
  },
  {
   "cell_type": "code",
   "execution_count": 150,
   "metadata": {},
   "outputs": [],
   "source": [
    "shortness_of_breath_negative = len(bb[bb['shortness_of_breath'] == 1])#检测结果为阴性\n",
    "shortness_of_breath_positive = len(bb[bb['shortness_of_breath'] == 0])#检测结果为阳性"
   ]
  },
  {
   "cell_type": "code",
   "execution_count": 151,
   "metadata": {},
   "outputs": [
    {
     "data": {
      "text/html": [
       "<div>\n",
       "<style scoped>\n",
       "    .dataframe tbody tr th:only-of-type {\n",
       "        vertical-align: middle;\n",
       "    }\n",
       "\n",
       "    .dataframe tbody tr th {\n",
       "        vertical-align: top;\n",
       "    }\n",
       "\n",
       "    .dataframe thead th {\n",
       "        text-align: right;\n",
       "    }\n",
       "</style>\n",
       "<table border=\"1\" class=\"dataframe\">\n",
       "  <thead>\n",
       "    <tr style=\"text-align: right;\">\n",
       "      <th></th>\n",
       "      <th>shortness_of_breath</th>\n",
       "    </tr>\n",
       "  </thead>\n",
       "  <tbody>\n",
       "    <tr>\n",
       "      <th>negative</th>\n",
       "      <td>76</td>\n",
       "    </tr>\n",
       "    <tr>\n",
       "      <th>positive</th>\n",
       "      <td>2134</td>\n",
       "    </tr>\n",
       "  </tbody>\n",
       "</table>\n",
       "</div>"
      ],
      "text/plain": [
       "          shortness_of_breath\n",
       "negative                   76\n",
       "positive                 2134"
      ]
     },
     "execution_count": 151,
     "metadata": {},
     "output_type": "execute_result"
    }
   ],
   "source": [
    "observed = pd.DataFrame({'shortness_of_breath': {'negative': shortness_of_breath_negative, 'positive':shortness_of_breath_positive}})\n",
    "observed"
   ]
  },
  {
   "cell_type": "code",
   "execution_count": 152,
   "metadata": {},
   "outputs": [
    {
     "data": {
      "text/plain": [
       "0.034389140271493215"
      ]
     },
     "execution_count": 152,
     "metadata": {},
     "output_type": "execute_result"
    }
   ],
   "source": [
    "negative = shortness_of_breath_negative\n",
    "positive = shortness_of_breath_positive\n",
    "rate_of_negative =negative / (negative +positive)\n",
    "rate_of_negative"
   ]
  },
  {
   "cell_type": "code",
   "execution_count": 153,
   "metadata": {},
   "outputs": [
    {
     "name": "stdout",
     "output_type": "stream",
     "text": [
      "76.0\n",
      "2134.0\n"
     ]
    }
   ],
   "source": [
    "expected_negative1 = len(bb)  * rate_of_negative\n",
    "expected_positive1 = len(bb)  * (1 - rate_of_negative)\n",
    "\n",
    "print(expected_negative1)\n",
    "print(expected_positive1)"
   ]
  },
  {
   "cell_type": "code",
   "execution_count": 154,
   "metadata": {},
   "outputs": [
    {
     "data": {
      "text/plain": [
       "Power_divergenceResult(statistic=57713.1803383811, pvalue=0.0)"
      ]
     },
     "execution_count": 154,
     "metadata": {},
     "output_type": "execute_result"
    }
   ],
   "source": [
    "import scipy.stats as stats\n",
    "#观测值\n",
    "observed_frequencies1 = [shortness_of_breath_negative,shortness_of_breath_positive]\n",
    "#期望值\n",
    "expected_frequencies1 = [expected_positive1, expected_negative1]\n",
    "#卡方检验\n",
    "stats.chisquare(f_obs = observed_frequencies1,\n",
    "                f_exp = expected_frequencies1)\n",
    "#    kf = chi2_contingency(observed_frequencies)\n",
    "#print('chisq-statistic=%.4f, p-value=%.4f, df=%i expected_frep=%s'%kf)"
   ]
  },
  {
   "cell_type": "markdown",
   "metadata": {},
   "source": [
    "## 头痛检验"
   ]
  },
  {
   "cell_type": "code",
   "execution_count": 155,
   "metadata": {},
   "outputs": [],
   "source": [
    "head_ache_negative = len(bb[bb['head_ache'] == 1])#检测结果为阴性\n",
    "head_ache_positive = len(bb[bb['head_ache'] == 0])#检测结果为阳性"
   ]
  },
  {
   "cell_type": "code",
   "execution_count": 156,
   "metadata": {},
   "outputs": [
    {
     "data": {
      "text/html": [
       "<div>\n",
       "<style scoped>\n",
       "    .dataframe tbody tr th:only-of-type {\n",
       "        vertical-align: middle;\n",
       "    }\n",
       "\n",
       "    .dataframe tbody tr th {\n",
       "        vertical-align: top;\n",
       "    }\n",
       "\n",
       "    .dataframe thead th {\n",
       "        text-align: right;\n",
       "    }\n",
       "</style>\n",
       "<table border=\"1\" class=\"dataframe\">\n",
       "  <thead>\n",
       "    <tr style=\"text-align: right;\">\n",
       "      <th></th>\n",
       "      <th>head_ache</th>\n",
       "    </tr>\n",
       "  </thead>\n",
       "  <tbody>\n",
       "    <tr>\n",
       "      <th>negative</th>\n",
       "      <td>416</td>\n",
       "    </tr>\n",
       "    <tr>\n",
       "      <th>positive</th>\n",
       "      <td>1794</td>\n",
       "    </tr>\n",
       "  </tbody>\n",
       "</table>\n",
       "</div>"
      ],
      "text/plain": [
       "          head_ache\n",
       "negative        416\n",
       "positive       1794"
      ]
     },
     "execution_count": 156,
     "metadata": {},
     "output_type": "execute_result"
    }
   ],
   "source": [
    "observed = pd.DataFrame({'head_ache': {'negative': head_ache_negative, 'positive':head_ache_positive}})\n",
    "observed"
   ]
  },
  {
   "cell_type": "code",
   "execution_count": 157,
   "metadata": {},
   "outputs": [
    {
     "data": {
      "text/plain": [
       "0.18823529411764706"
      ]
     },
     "execution_count": 157,
     "metadata": {},
     "output_type": "execute_result"
    }
   ],
   "source": [
    "negative = head_ache_negative\n",
    "positive = head_ache_positive\n",
    "rate_of_negative =negative / (negative +positive)\n",
    "rate_of_negative"
   ]
  },
  {
   "cell_type": "code",
   "execution_count": 158,
   "metadata": {},
   "outputs": [
    {
     "name": "stdout",
     "output_type": "stream",
     "text": [
      "416.0\n",
      "1794.0\n"
     ]
    }
   ],
   "source": [
    "expected_negative1 = len(bb)  * rate_of_negative\n",
    "expected_positive1 = len(bb)  * (1 - rate_of_negative)\n",
    "\n",
    "print(expected_negative1)\n",
    "print(expected_positive1)"
   ]
  },
  {
   "cell_type": "code",
   "execution_count": 159,
   "metadata": {},
   "outputs": [
    {
     "data": {
      "text/plain": [
       "Power_divergenceResult(statistic=5623.088768115942, pvalue=0.0)"
      ]
     },
     "execution_count": 159,
     "metadata": {},
     "output_type": "execute_result"
    }
   ],
   "source": [
    "import scipy.stats as stats\n",
    "#观测值\n",
    "observed_frequencies1 = [head_ache_negative,head_ache_positive]\n",
    "#期望值\n",
    "expected_frequencies1 = [expected_positive1, expected_negative1]\n",
    "#卡方检验\n",
    "stats.chisquare(f_obs = observed_frequencies1,\n",
    "                f_exp = expected_frequencies1)\n",
    "#    kf = chi2_contingency(observed_frequencies)\n",
    "#print('chisq-statistic=%.4f, p-value=%.4f, df=%i expected_frep=%s'%kf)"
   ]
  },
  {
   "cell_type": "markdown",
   "metadata": {},
   "source": [
    "### 逻辑回归"
   ]
  },
  {
   "cell_type": "code",
   "execution_count": 69,
   "metadata": {},
   "outputs": [
    {
     "data": {
      "text/html": [
       "<div>\n",
       "<style scoped>\n",
       "    .dataframe tbody tr th:only-of-type {\n",
       "        vertical-align: middle;\n",
       "    }\n",
       "\n",
       "    .dataframe tbody tr th {\n",
       "        vertical-align: top;\n",
       "    }\n",
       "\n",
       "    .dataframe thead th {\n",
       "        text-align: right;\n",
       "    }\n",
       "</style>\n",
       "<table border=\"1\" class=\"dataframe\">\n",
       "  <thead>\n",
       "    <tr style=\"text-align: right;\">\n",
       "      <th></th>\n",
       "      <th>cough</th>\n",
       "      <th>fever</th>\n",
       "      <th>sore_throat</th>\n",
       "      <th>shortness_of_breath</th>\n",
       "      <th>head_ache</th>\n",
       "      <th>corona_result</th>\n",
       "      <th>age_60_and_above</th>\n",
       "      <th>gender</th>\n",
       "      <th>test_indication</th>\n",
       "    </tr>\n",
       "  </thead>\n",
       "  <tbody>\n",
       "    <tr>\n",
       "      <th>0</th>\n",
       "      <td>0</td>\n",
       "      <td>0</td>\n",
       "      <td>0</td>\n",
       "      <td>0</td>\n",
       "      <td>0</td>\n",
       "      <td>1</td>\n",
       "      <td>No</td>\n",
       "      <td>male</td>\n",
       "      <td>Other</td>\n",
       "    </tr>\n",
       "    <tr>\n",
       "      <th>1</th>\n",
       "      <td>1</td>\n",
       "      <td>0</td>\n",
       "      <td>0</td>\n",
       "      <td>0</td>\n",
       "      <td>1</td>\n",
       "      <td>1</td>\n",
       "      <td>No</td>\n",
       "      <td>male</td>\n",
       "      <td>Other</td>\n",
       "    </tr>\n",
       "    <tr>\n",
       "      <th>2</th>\n",
       "      <td>0</td>\n",
       "      <td>0</td>\n",
       "      <td>0</td>\n",
       "      <td>0</td>\n",
       "      <td>0</td>\n",
       "      <td>1</td>\n",
       "      <td>Yes</td>\n",
       "      <td>female</td>\n",
       "      <td>Contact with confirmed</td>\n",
       "    </tr>\n",
       "    <tr>\n",
       "      <th>3</th>\n",
       "      <td>0</td>\n",
       "      <td>0</td>\n",
       "      <td>0</td>\n",
       "      <td>0</td>\n",
       "      <td>0</td>\n",
       "      <td>1</td>\n",
       "      <td>No</td>\n",
       "      <td>male</td>\n",
       "      <td>Other</td>\n",
       "    </tr>\n",
       "    <tr>\n",
       "      <th>4</th>\n",
       "      <td>0</td>\n",
       "      <td>0</td>\n",
       "      <td>0</td>\n",
       "      <td>0</td>\n",
       "      <td>0</td>\n",
       "      <td>1</td>\n",
       "      <td>No</td>\n",
       "      <td>female</td>\n",
       "      <td>Other</td>\n",
       "    </tr>\n",
       "  </tbody>\n",
       "</table>\n",
       "</div>"
      ],
      "text/plain": [
       "   cough  fever  sore_throat  shortness_of_breath  head_ache  corona_result  \\\n",
       "0      0      0            0                    0          0              1   \n",
       "1      1      0            0                    0          1              1   \n",
       "2      0      0            0                    0          0              1   \n",
       "3      0      0            0                    0          0              1   \n",
       "4      0      0            0                    0          0              1   \n",
       "\n",
       "  age_60_and_above  gender         test_indication  \n",
       "0               No    male                   Other  \n",
       "1               No    male                   Other  \n",
       "2              Yes  female  Contact with confirmed  \n",
       "3               No    male                   Other  \n",
       "4               No  female                   Other  "
      ]
     },
     "execution_count": 69,
     "metadata": {},
     "output_type": "execute_result"
    }
   ],
   "source": [
    "data = pd.read_csv(r'C:\\Users\\65164\\Desktop\\202026231_王耀正_covid数据集的可视化分析\\1.数据及分析源文件\\2020年Covid-19数据 2.csv')\n",
    "data.head()"
   ]
  },
  {
   "cell_type": "code",
   "execution_count": null,
   "metadata": {},
   "outputs": [],
   "source": []
  },
  {
   "cell_type": "code",
   "execution_count": 70,
   "metadata": {},
   "outputs": [
    {
     "name": "stdout",
     "output_type": "stream",
     "text": [
      "<class 'pandas.core.frame.DataFrame'>\n",
      "RangeIndex: 400000 entries, 0 to 399999\n",
      "Data columns (total 9 columns):\n",
      " #   Column               Non-Null Count   Dtype \n",
      "---  ------               --------------   ----- \n",
      " 0   cough                400000 non-null  int64 \n",
      " 1   fever                400000 non-null  int64 \n",
      " 2   sore_throat          400000 non-null  int64 \n",
      " 3   shortness_of_breath  400000 non-null  int64 \n",
      " 4   head_ache            400000 non-null  int64 \n",
      " 5   corona_result        400000 non-null  int64 \n",
      " 6   age_60_and_above     350088 non-null  object\n",
      " 7   gender               392248 non-null  object\n",
      " 8   test_indication      400000 non-null  object\n",
      "dtypes: int64(6), object(3)\n",
      "memory usage: 27.5+ MB\n"
     ]
    }
   ],
   "source": [
    "data.info()"
   ]
  },
  {
   "cell_type": "code",
   "execution_count": 71,
   "metadata": {},
   "outputs": [
    {
     "name": "stdout",
     "output_type": "stream",
     "text": [
      "60\n"
     ]
    },
    {
     "data": {
      "text/html": [
       "<div>\n",
       "<style scoped>\n",
       "    .dataframe tbody tr th:only-of-type {\n",
       "        vertical-align: middle;\n",
       "    }\n",
       "\n",
       "    .dataframe tbody tr th {\n",
       "        vertical-align: top;\n",
       "    }\n",
       "\n",
       "    .dataframe thead th {\n",
       "        text-align: right;\n",
       "    }\n",
       "</style>\n",
       "<table border=\"1\" class=\"dataframe\">\n",
       "  <thead>\n",
       "    <tr style=\"text-align: right;\">\n",
       "      <th></th>\n",
       "      <th>miss_num</th>\n",
       "      <th>miss_rate</th>\n",
       "    </tr>\n",
       "  </thead>\n",
       "  <tbody>\n",
       "    <tr>\n",
       "      <th>age_60_and_above</th>\n",
       "      <td>49912</td>\n",
       "      <td>12.478</td>\n",
       "    </tr>\n",
       "    <tr>\n",
       "      <th>gender</th>\n",
       "      <td>7752</td>\n",
       "      <td>1.938</td>\n",
       "    </tr>\n",
       "    <tr>\n",
       "      <th>cough</th>\n",
       "      <td>0</td>\n",
       "      <td>0.000</td>\n",
       "    </tr>\n",
       "    <tr>\n",
       "      <th>fever</th>\n",
       "      <td>0</td>\n",
       "      <td>0.000</td>\n",
       "    </tr>\n",
       "    <tr>\n",
       "      <th>sore_throat</th>\n",
       "      <td>0</td>\n",
       "      <td>0.000</td>\n",
       "    </tr>\n",
       "    <tr>\n",
       "      <th>shortness_of_breath</th>\n",
       "      <td>0</td>\n",
       "      <td>0.000</td>\n",
       "    </tr>\n",
       "    <tr>\n",
       "      <th>head_ache</th>\n",
       "      <td>0</td>\n",
       "      <td>0.000</td>\n",
       "    </tr>\n",
       "    <tr>\n",
       "      <th>corona_result</th>\n",
       "      <td>0</td>\n",
       "      <td>0.000</td>\n",
       "    </tr>\n",
       "    <tr>\n",
       "      <th>test_indication</th>\n",
       "      <td>0</td>\n",
       "      <td>0.000</td>\n",
       "    </tr>\n",
       "  </tbody>\n",
       "</table>\n",
       "</div>"
      ],
      "text/plain": [
       "                     miss_num  miss_rate\n",
       "age_60_and_above        49912     12.478\n",
       "gender                   7752      1.938\n",
       "cough                       0      0.000\n",
       "fever                       0      0.000\n",
       "sore_throat                 0      0.000\n",
       "shortness_of_breath         0      0.000\n",
       "head_ache                   0      0.000\n",
       "corona_result               0      0.000\n",
       "test_indication             0      0.000"
      ]
     },
     "metadata": {},
     "output_type": "display_data"
    },
    {
     "data": {
      "image/png": "[encoded data removed]",
      "text/plain": [
       "<Figure size 1080x288 with 1 Axes>"
      ]
     },
     "metadata": {
      "needs_background": "light"
     },
     "output_type": "display_data"
    }
   ],
   "source": [
    "print(pd.get_option(\"max_rows\"))\n",
    "# 如果需要显示完整，可以设置最多显示的行数。\n",
    "# pd.set_option(\"max_rows\", 200)\n",
    "miss = data.isnull().sum(axis=0)\n",
    "miss = pd.concat([miss, miss * 100 / data.shape[0]], axis=1)\n",
    "miss.columns = [\"miss_num\", \"miss_rate\"]\n",
    "miss.sort_values(\"miss_num\", inplace=True, ascending=False)\n",
    "display(miss)\n",
    "ax = sns.barplot(y=miss.index, x=miss[\"miss_num\"])\n",
    "figsize=(15, miss.shape[0] // 2)\n",
    "ax.get_figure().set_size_inches(figsize)\n",
    "for i in range(miss.shape[0]):\n",
    "    num = miss[\"miss_num\"].iloc[i]\n",
    "    rate = miss[\"miss_rate\"].iloc[i]\n",
    "    ax.text(num / 2, i, f\"{num}({rate:.2f}%)\")\n",
    "\n",
    "\n"
   ]
  },
  {
   "cell_type": "markdown",
   "metadata": {},
   "source": [
    "### 数据缺失比率在20%以内---直接填补"
   ]
  },
  {
   "cell_type": "code",
   "execution_count": 72,
   "metadata": {},
   "outputs": [
    {
     "name": "stdout",
     "output_type": "stream",
     "text": [
      "缺失值较少的特征：\n",
      "Index(['age_60_and_above', 'gender'], dtype='object')\n"
     ]
    }
   ],
   "source": [
    "missing_less = miss[(miss[\"miss_rate\"] > 0) & (miss[\"miss_rate\"] <= 20)].index\n",
    "print(\"缺失值较少的特征：\")\n",
    "print(missing_less)"
   ]
  },
  {
   "cell_type": "code",
   "execution_count": 73,
   "metadata": {},
   "outputs": [
    {
     "data": {
      "text/plain": [
       "False"
      ]
     },
     "execution_count": 73,
     "metadata": {},
     "output_type": "execute_result"
    }
   ],
   "source": [
    " data.dropna(inplace=True)\n",
    "#缺失值处理完成后，我们再次来进行检查。\n",
    "(data.isnull().sum() > 0).any()"
   ]
  },
  {
   "cell_type": "code",
   "execution_count": 74,
   "metadata": {},
   "outputs": [
    {
     "data": {
      "text/plain": [
       "348471"
      ]
     },
     "execution_count": 74,
     "metadata": {},
     "output_type": "execute_result"
    }
   ],
   "source": [
    "data.duplicated().sum()\n",
    "#data.drop_duplicates(inplace=True)"
   ]
  },
  {
   "cell_type": "markdown",
   "metadata": {},
   "source": [
    "### 数据转换与特征工程"
   ]
  },
  {
   "cell_type": "code",
   "execution_count": 75,
   "metadata": {},
   "outputs": [],
   "source": [
    "import numpy as np"
   ]
  },
  {
   "cell_type": "code",
   "execution_count": 76,
   "metadata": {},
   "outputs": [
    {
     "name": "stdout",
     "output_type": "stream",
     "text": [
      "非数值变量：\n",
      "['age_60_and_above', 'gender', 'test_indication']\n"
     ]
    }
   ],
   "source": [
    "not_number = []\n",
    "for k, v in data.dtypes.items():\n",
    "    if not np.issubdtype(v, np.number):\n",
    "         not_number.append(k)\n",
    "print(\"非数值变量：\")\n",
    "print(not_number)"
   ]
  },
  {
   "cell_type": "code",
   "execution_count": 77,
   "metadata": {},
   "outputs": [
    {
     "data": {
      "text/plain": [
       "<Figure size 432x288 with 0 Axes>"
      ]
     },
     "metadata": {},
     "output_type": "display_data"
    }
   ],
   "source": [
    "fig = plt.figure()"
   ]
  },
  {
   "cell_type": "markdown",
   "metadata": {},
   "source": [
    "#### 2、转换与提取特征"
   ]
  },
  {
   "cell_type": "markdown",
   "metadata": {},
   "source": [
    "#### ['test_date', 'corona_result', 'age_60_and_above', 'gender', 'test_indication']"
   ]
  },
  {
   "cell_type": "code",
   "execution_count": 78,
   "metadata": {},
   "outputs": [
    {
     "data": {
      "image/png": "[encoded data removed]",
      "text/plain": [
       "<Figure size 1080x720 with 4 Axes>"
      ]
     },
     "metadata": {
      "needs_background": "light"
     },
     "output_type": "display_data"
    }
   ],
   "source": [
    "def plot_var(name_list):\n",
    "    \"\"\"绘制变量的每个类别的数量。\n",
    "    Parameters\n",
    "    ----------\n",
    "    name : str\n",
    "    变量的名称。\n",
    "    \"\"\"\n",
    "    num = len(name_list)\n",
    "    row, col = np.ceil(num / 2).astype(np.int32), 2\n",
    "    fig, ax = plt.subplots(row, col)\n",
    "    fig.set_size_inches(15, row * 5)\n",
    "    ax = ax.ravel()\n",
    "    for index, name in enumerate(name_list):\n",
    "        v = data[name].value_counts()\n",
    "        sns.countplot(x=name, data=data, order=v.index, ax=ax[index])\n",
    "        # 在图像上绘制数值。\n",
    "        for x, y in enumerate(v):\n",
    "            t = ax[index].text(x, y, y)\n",
    "            # 数值居中对齐。\n",
    "            t.set_ha(\"center\")\n",
    "        if len(v) > 10:\n",
    "            ax[index].set_xticklabels(ax[index].get_xticklabels(), rotation=90)\n",
    "            \n",
    "plot_var([\"corona_result\", \"age_60_and_above\", \"gender\", \"test_indication\"])"
   ]
  },
  {
   "cell_type": "code",
   "execution_count": 79,
   "metadata": {},
   "outputs": [
    {
     "data": {
      "text/html": [
       "<div>\n",
       "<style scoped>\n",
       "    .dataframe tbody tr th:only-of-type {\n",
       "        vertical-align: middle;\n",
       "    }\n",
       "\n",
       "    .dataframe tbody tr th {\n",
       "        vertical-align: top;\n",
       "    }\n",
       "\n",
       "    .dataframe thead th {\n",
       "        text-align: right;\n",
       "    }\n",
       "</style>\n",
       "<table border=\"1\" class=\"dataframe\">\n",
       "  <thead>\n",
       "    <tr style=\"text-align: right;\">\n",
       "      <th></th>\n",
       "      <th>age_60_and_above_No</th>\n",
       "      <th>age_60_and_above_Yes</th>\n",
       "      <th>gender_female</th>\n",
       "      <th>gender_male</th>\n",
       "      <th>test_indication_Abroad</th>\n",
       "      <th>test_indication_Contact with confirmed</th>\n",
       "      <th>test_indication_Other</th>\n",
       "    </tr>\n",
       "  </thead>\n",
       "  <tbody>\n",
       "    <tr>\n",
       "      <th>0</th>\n",
       "      <td>1</td>\n",
       "      <td>0</td>\n",
       "      <td>0</td>\n",
       "      <td>1</td>\n",
       "      <td>0</td>\n",
       "      <td>0</td>\n",
       "      <td>1</td>\n",
       "    </tr>\n",
       "    <tr>\n",
       "      <th>1</th>\n",
       "      <td>1</td>\n",
       "      <td>0</td>\n",
       "      <td>0</td>\n",
       "      <td>1</td>\n",
       "      <td>0</td>\n",
       "      <td>0</td>\n",
       "      <td>1</td>\n",
       "    </tr>\n",
       "    <tr>\n",
       "      <th>2</th>\n",
       "      <td>0</td>\n",
       "      <td>1</td>\n",
       "      <td>1</td>\n",
       "      <td>0</td>\n",
       "      <td>0</td>\n",
       "      <td>1</td>\n",
       "      <td>0</td>\n",
       "    </tr>\n",
       "    <tr>\n",
       "      <th>3</th>\n",
       "      <td>1</td>\n",
       "      <td>0</td>\n",
       "      <td>0</td>\n",
       "      <td>1</td>\n",
       "      <td>0</td>\n",
       "      <td>0</td>\n",
       "      <td>1</td>\n",
       "    </tr>\n",
       "    <tr>\n",
       "      <th>4</th>\n",
       "      <td>1</td>\n",
       "      <td>0</td>\n",
       "      <td>1</td>\n",
       "      <td>0</td>\n",
       "      <td>0</td>\n",
       "      <td>0</td>\n",
       "      <td>1</td>\n",
       "    </tr>\n",
       "  </tbody>\n",
       "</table>\n",
       "</div>"
      ],
      "text/plain": [
       "   age_60_and_above_No  age_60_and_above_Yes  gender_female  gender_male  \\\n",
       "0                    1                     0              0            1   \n",
       "1                    1                     0              0            1   \n",
       "2                    0                     1              1            0   \n",
       "3                    1                     0              0            1   \n",
       "4                    1                     0              1            0   \n",
       "\n",
       "   test_indication_Abroad  test_indication_Contact with confirmed  \\\n",
       "0                       0                                       0   \n",
       "1                       0                                       0   \n",
       "2                       0                                       1   \n",
       "3                       0                                       0   \n",
       "4                       0                                       0   \n",
       "\n",
       "   test_indication_Other  \n",
       "0                      1  \n",
       "1                      1  \n",
       "2                      0  \n",
       "3                      1  \n",
       "4                      1  "
      ]
     },
     "metadata": {},
     "output_type": "display_data"
    }
   ],
   "source": [
    "columns = [ \"age_60_and_above\", \"gender\", \"test_indication\"]\n",
    "dummy = pd.get_dummies(data[columns])\n",
    "display(dummy.head())\n",
    "data = pd.concat([data, dummy], axis=1)\n",
    "data = data.drop(columns, axis=1)"
   ]
  },
  {
   "cell_type": "code",
   "execution_count": 80,
   "metadata": {},
   "outputs": [
    {
     "data": {
      "text/html": [
       "<div>\n",
       "<style scoped>\n",
       "    .dataframe tbody tr th:only-of-type {\n",
       "        vertical-align: middle;\n",
       "    }\n",
       "\n",
       "    .dataframe tbody tr th {\n",
       "        vertical-align: top;\n",
       "    }\n",
       "\n",
       "    .dataframe thead th {\n",
       "        text-align: right;\n",
       "    }\n",
       "</style>\n",
       "<table border=\"1\" class=\"dataframe\">\n",
       "  <thead>\n",
       "    <tr style=\"text-align: right;\">\n",
       "      <th></th>\n",
       "      <th>cough</th>\n",
       "      <th>fever</th>\n",
       "      <th>sore_throat</th>\n",
       "      <th>shortness_of_breath</th>\n",
       "      <th>head_ache</th>\n",
       "      <th>corona_result</th>\n",
       "      <th>age_60_and_above_No</th>\n",
       "      <th>age_60_and_above_Yes</th>\n",
       "      <th>gender_female</th>\n",
       "      <th>gender_male</th>\n",
       "      <th>test_indication_Abroad</th>\n",
       "      <th>test_indication_Contact with confirmed</th>\n",
       "      <th>test_indication_Other</th>\n",
       "    </tr>\n",
       "  </thead>\n",
       "  <tbody>\n",
       "    <tr>\n",
       "      <th>0</th>\n",
       "      <td>0</td>\n",
       "      <td>0</td>\n",
       "      <td>0</td>\n",
       "      <td>0</td>\n",
       "      <td>0</td>\n",
       "      <td>1</td>\n",
       "      <td>1</td>\n",
       "      <td>0</td>\n",
       "      <td>0</td>\n",
       "      <td>1</td>\n",
       "      <td>0</td>\n",
       "      <td>0</td>\n",
       "      <td>1</td>\n",
       "    </tr>\n",
       "    <tr>\n",
       "      <th>1</th>\n",
       "      <td>1</td>\n",
       "      <td>0</td>\n",
       "      <td>0</td>\n",
       "      <td>0</td>\n",
       "      <td>1</td>\n",
       "      <td>1</td>\n",
       "      <td>1</td>\n",
       "      <td>0</td>\n",
       "      <td>0</td>\n",
       "      <td>1</td>\n",
       "      <td>0</td>\n",
       "      <td>0</td>\n",
       "      <td>1</td>\n",
       "    </tr>\n",
       "    <tr>\n",
       "      <th>2</th>\n",
       "      <td>0</td>\n",
       "      <td>0</td>\n",
       "      <td>0</td>\n",
       "      <td>0</td>\n",
       "      <td>0</td>\n",
       "      <td>1</td>\n",
       "      <td>0</td>\n",
       "      <td>1</td>\n",
       "      <td>1</td>\n",
       "      <td>0</td>\n",
       "      <td>0</td>\n",
       "      <td>1</td>\n",
       "      <td>0</td>\n",
       "    </tr>\n",
       "    <tr>\n",
       "      <th>3</th>\n",
       "      <td>0</td>\n",
       "      <td>0</td>\n",
       "      <td>0</td>\n",
       "      <td>0</td>\n",
       "      <td>0</td>\n",
       "      <td>1</td>\n",
       "      <td>1</td>\n",
       "      <td>0</td>\n",
       "      <td>0</td>\n",
       "      <td>1</td>\n",
       "      <td>0</td>\n",
       "      <td>0</td>\n",
       "      <td>1</td>\n",
       "    </tr>\n",
       "    <tr>\n",
       "      <th>4</th>\n",
       "      <td>0</td>\n",
       "      <td>0</td>\n",
       "      <td>0</td>\n",
       "      <td>0</td>\n",
       "      <td>0</td>\n",
       "      <td>1</td>\n",
       "      <td>1</td>\n",
       "      <td>0</td>\n",
       "      <td>1</td>\n",
       "      <td>0</td>\n",
       "      <td>0</td>\n",
       "      <td>0</td>\n",
       "      <td>1</td>\n",
       "    </tr>\n",
       "    <tr>\n",
       "      <th>...</th>\n",
       "      <td>...</td>\n",
       "      <td>...</td>\n",
       "      <td>...</td>\n",
       "      <td>...</td>\n",
       "      <td>...</td>\n",
       "      <td>...</td>\n",
       "      <td>...</td>\n",
       "      <td>...</td>\n",
       "      <td>...</td>\n",
       "      <td>...</td>\n",
       "      <td>...</td>\n",
       "      <td>...</td>\n",
       "      <td>...</td>\n",
       "    </tr>\n",
       "    <tr>\n",
       "      <th>399995</th>\n",
       "      <td>0</td>\n",
       "      <td>0</td>\n",
       "      <td>0</td>\n",
       "      <td>0</td>\n",
       "      <td>0</td>\n",
       "      <td>1</td>\n",
       "      <td>1</td>\n",
       "      <td>0</td>\n",
       "      <td>0</td>\n",
       "      <td>1</td>\n",
       "      <td>0</td>\n",
       "      <td>1</td>\n",
       "      <td>0</td>\n",
       "    </tr>\n",
       "    <tr>\n",
       "      <th>399996</th>\n",
       "      <td>0</td>\n",
       "      <td>0</td>\n",
       "      <td>0</td>\n",
       "      <td>0</td>\n",
       "      <td>0</td>\n",
       "      <td>0</td>\n",
       "      <td>1</td>\n",
       "      <td>0</td>\n",
       "      <td>0</td>\n",
       "      <td>1</td>\n",
       "      <td>0</td>\n",
       "      <td>0</td>\n",
       "      <td>1</td>\n",
       "    </tr>\n",
       "    <tr>\n",
       "      <th>399997</th>\n",
       "      <td>0</td>\n",
       "      <td>0</td>\n",
       "      <td>0</td>\n",
       "      <td>0</td>\n",
       "      <td>0</td>\n",
       "      <td>0</td>\n",
       "      <td>1</td>\n",
       "      <td>0</td>\n",
       "      <td>0</td>\n",
       "      <td>1</td>\n",
       "      <td>0</td>\n",
       "      <td>0</td>\n",
       "      <td>1</td>\n",
       "    </tr>\n",
       "    <tr>\n",
       "      <th>399998</th>\n",
       "      <td>0</td>\n",
       "      <td>0</td>\n",
       "      <td>0</td>\n",
       "      <td>0</td>\n",
       "      <td>0</td>\n",
       "      <td>1</td>\n",
       "      <td>1</td>\n",
       "      <td>0</td>\n",
       "      <td>1</td>\n",
       "      <td>0</td>\n",
       "      <td>0</td>\n",
       "      <td>0</td>\n",
       "      <td>1</td>\n",
       "    </tr>\n",
       "    <tr>\n",
       "      <th>399999</th>\n",
       "      <td>1</td>\n",
       "      <td>1</td>\n",
       "      <td>0</td>\n",
       "      <td>0</td>\n",
       "      <td>1</td>\n",
       "      <td>1</td>\n",
       "      <td>1</td>\n",
       "      <td>0</td>\n",
       "      <td>1</td>\n",
       "      <td>0</td>\n",
       "      <td>0</td>\n",
       "      <td>1</td>\n",
       "      <td>0</td>\n",
       "    </tr>\n",
       "  </tbody>\n",
       "</table>\n",
       "<p>349038 rows × 13 columns</p>\n",
       "</div>"
      ],
      "text/plain": [
       "        cough  fever  sore_throat  shortness_of_breath  head_ache  \\\n",
       "0           0      0            0                    0          0   \n",
       "1           1      0            0                    0          1   \n",
       "2           0      0            0                    0          0   \n",
       "3           0      0            0                    0          0   \n",
       "4           0      0            0                    0          0   \n",
       "...       ...    ...          ...                  ...        ...   \n",
       "399995      0      0            0                    0          0   \n",
       "399996      0      0            0                    0          0   \n",
       "399997      0      0            0                    0          0   \n",
       "399998      0      0            0                    0          0   \n",
       "399999      1      1            0                    0          1   \n",
       "\n",
       "        corona_result  age_60_and_above_No  age_60_and_above_Yes  \\\n",
       "0                   1                    1                     0   \n",
       "1                   1                    1                     0   \n",
       "2                   1                    0                     1   \n",
       "3                   1                    1                     0   \n",
       "4                   1                    1                     0   \n",
       "...               ...                  ...                   ...   \n",
       "399995              1                    1                     0   \n",
       "399996              0                    1                     0   \n",
       "399997              0                    1                     0   \n",
       "399998              1                    1                     0   \n",
       "399999              1                    1                     0   \n",
       "\n",
       "        gender_female  gender_male  test_indication_Abroad  \\\n",
       "0                   0            1                       0   \n",
       "1                   0            1                       0   \n",
       "2                   1            0                       0   \n",
       "3                   0            1                       0   \n",
       "4                   1            0                       0   \n",
       "...               ...          ...                     ...   \n",
       "399995              0            1                       0   \n",
       "399996              0            1                       0   \n",
       "399997              0            1                       0   \n",
       "399998              1            0                       0   \n",
       "399999              1            0                       0   \n",
       "\n",
       "        test_indication_Contact with confirmed  test_indication_Other  \n",
       "0                                            0                      1  \n",
       "1                                            0                      1  \n",
       "2                                            1                      0  \n",
       "3                                            0                      1  \n",
       "4                                            0                      1  \n",
       "...                                        ...                    ...  \n",
       "399995                                       1                      0  \n",
       "399996                                       0                      1  \n",
       "399997                                       0                      1  \n",
       "399998                                       0                      1  \n",
       "399999                                       1                      0  \n",
       "\n",
       "[349038 rows x 13 columns]"
      ]
     },
     "execution_count": 80,
     "metadata": {},
     "output_type": "execute_result"
    }
   ],
   "source": [
    "data"
   ]
  },
  {
   "cell_type": "code",
   "execution_count": null,
   "metadata": {},
   "outputs": [],
   "source": []
  },
  {
   "cell_type": "code",
   "execution_count": 81,
   "metadata": {},
   "outputs": [
    {
     "data": {
      "text/plain": [
       "1    208726\n",
       "0    140312\n",
       "Name: corona_result, dtype: int64"
      ]
     },
     "execution_count": 81,
     "metadata": {},
     "output_type": "execute_result"
    }
   ],
   "source": [
    "data['corona_result'].value_counts()"
   ]
  },
  {
   "cell_type": "code",
   "execution_count": 82,
   "metadata": {},
   "outputs": [
    {
     "data": {
      "image/png": "[encoded data removed]",
      "text/plain": [
       "<Figure size 1080x360 with 2 Axes>"
      ]
     },
     "metadata": {
      "needs_background": "light"
     },
     "output_type": "display_data"
    }
   ],
   "source": [
    "plot_var([\"corona_result\"])"
   ]
  },
  {
   "cell_type": "code",
   "execution_count": 83,
   "metadata": {},
   "outputs": [
    {
     "name": "stdout",
     "output_type": "stream",
     "text": [
      "真实值： [1 1 1 0 1 0 1 0 1 0]\n",
      "预测值： [1 0 0 0 1 0 0 0 1 0]\n"
     ]
    }
   ],
   "source": [
    "from sklearn.linear_model import LogisticRegression\n",
    "from sklearn.model_selection import train_test_split\n",
    "\n",
    "lr = LogisticRegression(solver=\"liblinear\")\n",
    "y = data[\"corona_result\"]\n",
    "X = data.drop(\"corona_result\", axis=1)\n",
    "X_train, X_test, y_train, y_test = train_test_split(X, y, test_size=0.3, random_state=0)\n",
    "lr.fit(X_train, y_train)\n",
    "y_hat = lr.predict(X_test)\n",
    "print(\"真实值：\", y_test.values[:10])\n",
    "print(\"预测值：\", y_hat[:10])"
   ]
  },
  {
   "cell_type": "code",
   "execution_count": 28,
   "metadata": {},
   "outputs": [
    {
     "name": "stdout",
     "output_type": "stream",
     "text": [
      "[[40029  2159]\n",
      " [21886 40638]]\n"
     ]
    }
   ],
   "source": [
    "from sklearn.metrics import confusion_matrix\n",
    "# 根据传入的真实值与预测值，创建混淆矩阵。\n",
    "matrix = confusion_matrix(y_true=y_test, y_pred=y_hat)\n",
    "print(matrix)"
   ]
  },
  {
   "cell_type": "code",
   "execution_count": 29,
   "metadata": {
    "scrolled": true
   },
   "outputs": [
    {
     "data": {
      "image/png": "[encoded data removed]",
      "text/plain": [
       "<Figure size 288x288 with 1 Axes>"
      ]
     },
     "metadata": {
      "needs_background": "light"
     },
     "output_type": "display_data"
    }
   ],
   "source": [
    "mat = plt.matshow(matrix, cmap=plt.cm.Blues, alpha=0.5)\n",
    "label = [\"负例\", \"正例\"]\n",
    "# 获取当前的绘图对象。\n",
    "ax = plt.gca()\n",
    "# 可以一次性设置多个属性。\n",
    "ax.set(xticks=np.arange(matrix.shape[1]), yticks=np.arange(matrix.shape[0]), xticklabels=label, yticklabels=label, title=\"混淆矩阵可视化\\n\", ylabel=\"真实值\", xlabel=\"预测值\")\n",
    "for i in range(matrix.shape[0]):\n",
    "    for j in range(matrix.shape[1]):\n",
    "        plt.text(x=j, y=i, s=matrix[i, j], va=\"center\", ha=\"center\")\n",
    "plt.grid(False)"
   ]
  },
  {
   "cell_type": "code",
   "execution_count": 30,
   "metadata": {},
   "outputs": [
    {
     "name": "stdout",
     "output_type": "stream",
     "text": [
      "正确率： 0.7703701581480633\n",
      "精准率： 0.9495525387293502\n",
      "召回率： 0.6499584159682682\n",
      "F1调和平均值： 0.7716979519753896\n",
      "score方法计算正确率： 0.7703701581480633\n"
     ]
    }
   ],
   "source": [
    "from sklearn.metrics import accuracy_score, precision_score, recall_score, f1_score\n",
    "\n",
    "print(\"正确率：\", accuracy_score(y_test, y_hat))\n",
    "# 默认将1类别视为正例，可以通过pos_label参数指定。\n",
    "print(\"精准率：\", precision_score(y_test, y_hat))\n",
    "print(\"召回率：\", recall_score(y_test, y_hat))\n",
    "print(\"F1调和平均值：\", f1_score(y_test, y_hat))\n",
    "# 我们也可以调用逻辑回归模型对象的score方法，也能获取正确率。\n",
    "# 但是需要注意，score方法与正确率（accuracy_score）函数的参数是不同的。\n",
    "print(\"score方法计算正确率：\", lr.score(X_test, y_test))"
   ]
  },
  {
   "cell_type": "code",
   "execution_count": 31,
   "metadata": {},
   "outputs": [
    {
     "name": "stdout",
     "output_type": "stream",
     "text": [
      "              precision    recall  f1-score   support\n",
      "\n",
      "           0       0.65      0.95      0.77     42188\n",
      "           1       0.95      0.65      0.77     62524\n",
      "\n",
      "    accuracy                           0.77    104712\n",
      "   macro avg       0.80      0.80      0.77    104712\n",
      "weighted avg       0.83      0.77      0.77    104712\n",
      "\n"
     ]
    }
   ],
   "source": [
    "from sklearn.metrics import classification_report\n",
    "\n",
    "print(classification_report(y_true=y_test, y_pred=y_hat))"
   ]
  },
  {
   "cell_type": "code",
   "execution_count": 32,
   "metadata": {},
   "outputs": [
    {
     "data": {
      "text/plain": [
       "array([[40029,  2159],\n",
       "       [21886, 40638]], dtype=int64)"
      ]
     },
     "execution_count": 32,
     "metadata": {},
     "output_type": "execute_result"
    }
   ],
   "source": [
    "from sklearn.metrics import confusion_matrix\n",
    "\n",
    "confusion_matrix(y_true=y_test, y_pred=y_hat)"
   ]
  },
  {
   "cell_type": "code",
   "execution_count": 33,
   "metadata": {},
   "outputs": [
    {
     "name": "stdout",
     "output_type": "stream",
     "text": [
      "(104712, 2) (305,) (305,) (305,)\n",
      "[1.99999651 0.99999651 0.9999957  0.99999555 0.99999059 0.99999027\n",
      " 0.99998759 0.99997295 0.99997201 0.99997188]\n",
      "AUC面积值： 0.8141559722416739\n",
      "AUC面积得分： 0.8141559722416739\n"
     ]
    }
   ],
   "source": [
    "from sklearn.metrics import roc_curve, auc, roc_auc_score\n",
    "\n",
    "probo = lr.predict_proba(X_test)\n",
    "# 返回ROC曲线相关值。返回FPR，TPR与阈值。当分值达到阈值时，将样本判定为正类，\n",
    "# 否则判定为负类。\n",
    "# y_true：二分类的标签值（真实值）。\n",
    "# y_score：每个标签（数据）的分值或概率值。当该值达到阈值时，判定为正例，否则判定为负例。\n",
    "# 在实际模型评估时，该值往往通过决策函数（decision_function）或者概率函数（predict_proba）获得。\n",
    "# pos_label：指定正例的标签值。\n",
    "fpr, tpr, thresholds = roc_curve(y_true=y_test, y_score=probo[:, 1], pos_label=1)\n",
    "# 对概率降序排列，然后从中选择若干元素作为阈值，每个阈值下，都可以计算一个tpr与fpr，\n",
    "# 每个tpr与fpr对应ROC曲线上的一个点，将这些点进行连接，就可以绘制ROC曲线。\n",
    "print(probo.shape, fpr.shape, tpr.shape, thresholds.shape)\n",
    "print(thresholds[:10])\n",
    "# auc与roc_auc_score函数都可以返回AUC面积值，但是注意，两个函数的参数是不同的。\n",
    "print(\"AUC面积值：\", auc(fpr, tpr))\n",
    "print(\"AUC面积得分：\", roc_auc_score(y_true=y_test, y_score=probo[:, 1]))"
   ]
  },
  {
   "cell_type": "code",
   "execution_count": 34,
   "metadata": {},
   "outputs": [
    {
     "data": {
      "image/png": "[encoded data removed]",
      "text/plain": [
       "<Figure size 720x432 with 1 Axes>"
      ]
     },
     "metadata": {
      "needs_background": "light"
     },
     "output_type": "display_data"
    }
   ],
   "source": [
    "plt.figure(figsize=(10, 6))\n",
    "plt.plot(fpr, tpr, marker=\"o\", label=\"ROC曲线\")\n",
    "plt.plot([0,1], [0,1], lw=2, ls=\"--\", label=\"随机猜测\")\n",
    "plt.plot([0, 0, 1], [0, 1, 1], lw=2, ls=\"-.\", label=\"完美预测\")\n",
    "plt.xlim(-0.01, 1.02)\n",
    "plt.ylim(-0.01, 1.02)\n",
    "plt.xticks(np.arange(0, 1.1, 0.1))\n",
    "plt.yticks(np.arange(0, 1.1, 0.1))\n",
    "plt.xlabel(\"False Positive Rate(FPR)\")\n",
    "plt.ylabel(\"True Positive Rate(TPR)\")\n",
    "plt.grid(True)\n",
    "plt.title(f\"ROC曲线-AUC值为{auc(fpr, tpr):.3f}\")\n",
    "plt.legend()\n",
    "plt.show()"
   ]
  },
  {
   "cell_type": "code",
   "execution_count": 35,
   "metadata": {},
   "outputs": [
    {
     "name": "stdout",
     "output_type": "stream",
     "text": [
      "[0.59710444 0.5970202  0.59701036 0.5968927  0.59686726 0.68854239\n",
      " 0.70965652 0.89919612 0.94748614 0.94929229 0.94955254 0.95106812\n",
      " 0.95113037 0.95386887 0.95416946 0.95664993 0.95687398 0.95695397\n",
      " 0.95702216 0.957019   0.95704244 0.95726789 0.95733412 0.95733098\n",
      " 0.95732889 0.95732679 0.95732051 0.95731947 0.95795187 0.9579532\n",
      " 0.95782843 0.95782812 0.95780505 0.95779509 0.95778331 0.95778223\n",
      " 0.95861615 0.95860092 0.95859219 0.95858572 0.95855047 0.95854507\n",
      " 0.95803528 0.95796067 0.95865393 0.95872929 0.95872251 0.95872138\n",
      " 0.9583345  0.95830183 0.95933316 0.95945073 0.95952702 0.95952588\n",
      " 0.95952361 0.95951565 0.96191877 0.96395738 0.96402903 0.96413133\n",
      " 0.96399469 0.96395717 0.9639565  0.96395747 0.96395097 0.96394967\n",
      " 0.9692351  0.9712066  0.97184014 0.97205518 0.97202762 0.97200061\n",
      " 0.97194215 0.97191355 0.97185285 0.97179886 0.9717974  0.97179594\n",
      " 0.97179447 0.97178963 0.97174221 0.97173628 0.97173331 0.97172736\n",
      " 0.97276093 0.97275792 0.97280115 0.97279822 0.97262969 0.97260351\n",
      " 0.9725541  0.97257955 0.97255633 0.97254392 0.9740721  0.97407057\n",
      " 0.97406596 0.97412662 0.97412508 0.97412354 0.9739947  0.97395865\n",
      " 0.97389886 0.97398512 0.97397567 0.97363045 0.9735568  0.97338355\n",
      " 0.97337854 0.97337278 0.97336775 0.9733644  0.97286695 0.97288959\n",
      " 0.97284081 0.97281926 0.97277965 0.97277785 0.97276883 0.97276522\n",
      " 0.972758   0.97275439 0.97274897 0.97274717 0.97274174 0.97333619\n",
      " 0.97323425 0.97302333 0.97307029 0.9729994  0.97291572 0.97292788\n",
      " 0.97291128 0.97288032 0.97284308 0.97296678 0.97295646 0.97295439\n",
      " 0.97295026 0.97294819 0.97281964 0.97240609 0.97226869 0.97220989\n",
      " 0.97223952 0.97211547 0.97216255 0.9720374  0.97201224 0.97201661\n",
      " 0.97199386 0.97259297 0.97217282 0.97189052 0.9717682  0.97163197\n",
      " 0.971586   0.971652   0.97164276 0.97175073 0.97130993 0.97124763\n",
      " 0.97124398 0.97110857 0.97110198 0.97108712 0.97101636 0.97101263\n",
      " 0.97100889 0.97159796 0.97174825 0.9718593  0.97186959 0.97193136\n",
      " 0.97187819 0.97184126 0.97183715 0.97257418 0.97256538 0.97238562\n",
      " 0.97227326 0.97219896 0.97218007 0.97231133 0.97228325 0.97348208\n",
      " 0.97327682 0.97306968 0.97301887 0.972891   0.97286013 0.97281886\n",
      " 0.97266881 0.97255298 0.97244499 0.97238821 0.97226821 0.97225098\n",
      " 0.97223949 0.97222798 0.97222222 0.97269042 0.97267876 0.97259101\n",
      " 0.97258514 0.97242568 0.97259978 0.97250487 0.97242727 0.9723973\n",
      " 0.97237329 0.97234321 0.97233718 0.97192273 0.97191011 0.97183416\n",
      " 0.97182459 0.97176042 0.97172178 0.97187286 0.97154682 0.97153209\n",
      " 0.97173515 0.97150259 0.97129187 0.97141998 0.97101007 0.97089461\n",
      " 0.9705335  0.97050605 0.97045101 0.9702101  0.9701914  0.97016616\n",
      " 0.97012639 0.97055215 0.96995708 0.96990542 0.96964441 0.96952547\n",
      " 0.96992481 0.96989819 0.9697912  0.96966994 0.96949789 0.97019868\n",
      " 0.97007722 0.97037397 0.97067449 0.97061704 0.96986721 0.9697591\n",
      " 0.97068063 0.9705108  0.97097625 0.97096093 0.96926859 0.969279\n",
      " 0.97075606 0.9704611  0.96951673 0.9694258  0.96921922 0.96964121\n",
      " 0.96986817 0.96800826 0.96787565 0.96825397 0.96822034 0.96811902\n",
      " 0.96808511 0.96805112 0.96774194 0.96770721 0.96767241 0.9673913\n",
      " 0.96735582 0.96895213 0.96870926 0.96747967 0.96743555 0.96657382\n",
      " 0.96475771 0.9646539  0.96328671 0.96302817 0.96223022 0.96188748\n",
      " 0.96174863 0.96353167 0.96346154 0.96296296 0.96237624 0.96421471\n",
      " 0.96537678 0.96516393 0.96666667 0.96820809 0.97151899 0.97115385\n",
      " 0.97101449 0.97069597 0.97484277 0.97419355 0.96694215 0.96581197\n",
      " 0.96226415 0.96190476 0.96551724 0.96428571 0.96341463 0.94285714\n",
      " 0.96296296 1.        ]\n",
      "[1.00000000e+00 9.99152326e-01 9.99040368e-01 9.97888811e-01\n",
      " 9.97664897e-01 8.62340861e-01 8.40989060e-01 6.76252319e-01\n",
      " 6.50438232e-01 6.50038385e-01 6.49958416e-01 6.49398631e-01\n",
      " 6.49334655e-01 6.40586015e-01 6.38330881e-01 6.27902885e-01\n",
      " 6.25279893e-01 6.25071972e-01 6.25039985e-01 6.24992003e-01\n",
      " 6.24992003e-01 6.24496193e-01 6.24432218e-01 6.24384236e-01\n",
      " 6.24352249e-01 6.24320261e-01 6.24224298e-01 6.24208304e-01\n",
      " 6.12516794e-01 6.09621905e-01 6.05559465e-01 6.05191606e-01\n",
      " 6.04120018e-01 6.03608214e-01 6.03432282e-01 6.03416288e-01\n",
      " 5.82768217e-01 5.77730152e-01 5.75011196e-01 5.74547374e-01\n",
      " 5.73667712e-01 5.73219884e-01 5.61208496e-01 5.60168895e-01\n",
      " 5.59960975e-01 5.59912993e-01 5.59817030e-01 5.59801036e-01\n",
      " 5.48125520e-01 5.47309833e-01 5.46702066e-01 5.46462159e-01\n",
      " 5.46398183e-01 5.46382189e-01 5.46350202e-01 5.46238245e-01\n",
      " 4.49651334e-01 4.42725993e-01 4.33353592e-01 4.31626256e-01\n",
      " 4.29499072e-01 4.29035250e-01 4.28171582e-01 4.27755742e-01\n",
      " 4.27675773e-01 4.27659779e-01 3.30545071e-01 3.19909155e-01\n",
      " 3.10760668e-01 3.07657859e-01 3.06234406e-01 3.05930523e-01\n",
      " 3.05274774e-01 3.04954897e-01 3.00412642e-01 2.99820869e-01\n",
      " 2.99804875e-01 2.99788881e-01 2.99772887e-01 2.96414177e-01\n",
      " 2.95902373e-01 2.95838398e-01 2.95806410e-01 2.95742435e-01\n",
      " 2.81587870e-01 2.81555883e-01 2.81443926e-01 2.79124816e-01\n",
      " 2.76789713e-01 2.76517817e-01 2.76006014e-01 2.75702130e-01\n",
      " 2.75462223e-01 2.75334272e-01 2.63178939e-01 2.63162945e-01\n",
      " 2.63114964e-01 2.61339646e-01 2.61323652e-01 2.61307658e-01\n",
      " 2.58780628e-01 2.58412769e-01 2.57805003e-01 2.57485126e-01\n",
      " 2.57389163e-01 2.51567398e-01 2.50847674e-01 2.48000768e-01\n",
      " 2.47952786e-01 2.47313032e-01 2.47265050e-01 2.47233063e-01\n",
      " 2.37988612e-01 2.37044975e-01 2.35461583e-01 2.35269656e-01\n",
      " 2.34917792e-01 2.34901798e-01 2.34821828e-01 2.34789841e-01\n",
      " 2.34725865e-01 2.34693878e-01 2.34645896e-01 2.34629902e-01\n",
      " 2.34581921e-01 2.17772375e-01 2.15757149e-01 2.08831809e-01\n",
      " 2.07472331e-01 2.06912546e-01 2.05681018e-01 2.05201203e-01\n",
      " 2.04497473e-01 2.04257565e-01 2.03969676e-01 2.03777749e-01\n",
      " 2.03697780e-01 2.03681786e-01 2.03649798e-01 2.03633805e-01\n",
      " 1.83753439e-01 1.80922526e-01 1.76636172e-01 1.75132749e-01\n",
      " 1.74764890e-01 1.73965197e-01 1.73709296e-01 1.72909603e-01\n",
      " 1.72749664e-01 1.72221867e-01 1.72077922e-01 1.52677372e-01\n",
      " 1.48630926e-01 1.47095515e-01 1.46439767e-01 1.44072676e-01\n",
      " 1.43832768e-01 1.43081057e-01 1.43033075e-01 1.28190775e-01\n",
      " 1.23456593e-01 1.22640906e-01 1.22624912e-01 1.22033139e-01\n",
      " 1.20929563e-01 1.20865588e-01 1.20561704e-01 1.20545710e-01\n",
      " 1.20529717e-01 1.12708720e-01 1.11125328e-01 1.08262427e-01\n",
      " 1.07750624e-01 1.06886955e-01 1.06679035e-01 1.06535091e-01\n",
      " 1.06519097e-01 9.69867571e-02 9.69547694e-02 9.51794511e-02\n",
      " 9.31002495e-02 9.28443478e-02 9.22205873e-02 9.21086303e-02\n",
      " 9.20126671e-02 8.51353080e-02 8.44635660e-02 8.26402661e-02\n",
      " 8.24803276e-02 8.20804811e-02 8.19845179e-02 8.18565671e-02\n",
      " 7.74102745e-02 7.70744034e-02 7.56349562e-02 7.54750176e-02\n",
      " 7.51391466e-02 7.50911650e-02 7.50591773e-02 7.50271896e-02\n",
      " 7.50111957e-02 7.29160003e-02 7.28840125e-02 7.26441047e-02\n",
      " 7.26281108e-02 7.21962766e-02 7.21003135e-02 7.18444117e-02\n",
      " 7.16364916e-02 7.15565223e-02 7.14925469e-02 7.14125776e-02\n",
      " 7.13965837e-02 6.92054251e-02 6.91734374e-02 6.89815111e-02\n",
      " 6.84057322e-02 6.82457936e-02 6.81498305e-02 6.79738980e-02\n",
      " 6.00729320e-02 6.00409443e-02 5.93851961e-02 5.39792720e-02\n",
      " 5.19480519e-02 5.16441686e-02 5.08924573e-02 5.06845371e-02\n",
      " 5.00447828e-02 4.99968012e-02 4.99008381e-02 4.94849978e-02\n",
      " 4.94530100e-02 4.10882221e-02 4.05124432e-02 3.79534259e-02\n",
      " 3.61461199e-02 3.60821445e-02 3.57622673e-02 3.56183226e-02\n",
      " 3.50745314e-02 3.50425437e-02 3.49145928e-02 3.47706481e-02\n",
      " 3.30433114e-02 3.28034035e-02 3.21476553e-02 3.19557290e-02\n",
      " 3.17638027e-02 3.16998273e-02 3.03723370e-02 3.02603800e-02\n",
      " 2.96526134e-02 2.94766810e-02 2.94286994e-02 2.94127055e-02\n",
      " 2.52223146e-02 2.47265050e-02 2.17676412e-02 2.15437272e-02\n",
      " 2.08559913e-02 2.07920159e-02 2.06480711e-02 1.68575267e-02\n",
      " 1.64736741e-02 1.50022391e-02 1.49382637e-02 1.46343804e-02\n",
      " 1.46183865e-02 1.45704050e-02 1.45544111e-02 1.45384172e-02\n",
      " 1.43944725e-02 1.43784787e-02 1.43624848e-02 1.42345339e-02\n",
      " 1.42185401e-02 1.19793999e-02 1.18834368e-02 1.14196149e-02\n",
      " 1.14036210e-02 1.10997377e-02 1.05079649e-02 1.04759772e-02\n",
      " 8.81261596e-03 8.74864052e-03 8.55671422e-03 8.47674493e-03\n",
      " 8.44475721e-03 8.02891690e-03 8.01292304e-03 7.90096603e-03\n",
      " 7.77301516e-03 7.75702130e-03 7.58108886e-03 7.53310729e-03\n",
      " 5.56586271e-03 5.35794255e-03 4.91011452e-03 4.84613908e-03\n",
      " 4.28635404e-03 4.23837246e-03 2.47904805e-03 2.41507261e-03\n",
      " 1.87128143e-03 1.80730599e-03 1.63137355e-03 1.61537969e-03\n",
      " 1.34348410e-03 1.29550253e-03 1.26351481e-03 5.27797326e-04\n",
      " 4.15840317e-04 0.00000000e+00]\n",
      "(314,) (314,) (313,) (104712,)\n"
     ]
    },
    {
     "data": {
      "text/plain": [
       "Text(0.5, 1.0, 'P-R曲线')"
      ]
     },
     "execution_count": 35,
     "metadata": {},
     "output_type": "execute_result"
    },
    {
     "data": {
      "image/png": "[encoded data removed]",
      "text/plain": [
       "<Figure size 432x288 with 1 Axes>"
      ]
     },
     "metadata": {
      "needs_background": "light"
     },
     "output_type": "display_data"
    }
   ],
   "source": [
    "from sklearn.metrics import precision_recall_curve\n",
    "# 计算在不同阈值下的精准率与召回率。\n",
    "# y_true：每个样本的真实值。\n",
    "# probas_pred：每个样本的概率值（或z值）。\n",
    "# pos_label：指定正例类别。\n",
    "# 函数会返回3个值：\n",
    "# precision：每个样本在对应阈值下的精准率，最后一个元素值为1。\n",
    "# recall：每个样本在对应阈值下的召回率。最后一个元素值为0。\n",
    "# thresholds：升序排列的阈值数组。【说明：因为阈值是升序排列的，因此，可以推导出\n",
    "# 精准率升序排列，召回率降序排列。】\n",
    "precision, recall, thresholds = precision_recall_curve(y_test, probo[:, 1], pos_label=1)\n",
    "print(precision)\n",
    "print(recall)\n",
    "# 阈值会从y_true参数的数组中来选取一部分。注意：阈值的数量比precision与recall少1。\n",
    "print(precision.shape, recall.shape, thresholds.shape, y_test.shape)\n",
    "plt.plot(recall, precision)\n",
    "plt.xlabel(\"召回率\")\n",
    "plt.ylabel(\"精准率\")\n",
    "plt.title(\"P-R曲线\")"
   ]
  },
  {
   "cell_type": "code",
   "execution_count": 36,
   "metadata": {},
   "outputs": [
    {
     "name": "stdout",
     "output_type": "stream",
     "text": [
      "最佳阈值： 0.2380820182329124\n",
      "最佳F1值： 0.747733741538903\n",
      "最佳F1值时的精准率： 0.5971044388417756\n",
      "最佳F1值时的召回率： 1.0\n"
     ]
    }
   ],
   "source": [
    "min_recall = 0.95\n",
    "# 召回率降序排列，截取的一定是数组中的前半部分。\n",
    "boundary_index = recall[recall >= min_recall].shape[0]\n",
    "pre = precision[:boundary_index]\n",
    "rec = recall[:boundary_index]\n",
    "thr = thresholds[:boundary_index]\n",
    "f1 = (2 * pre * rec) / (pre + rec)\n",
    "index = f1.argmax()\n",
    "print(\"最佳阈值：\", thr[index])\n",
    "print(\"最佳F1值：\", f1.max())\n",
    "print(\"最佳F1值时的精准率：\", pre[index])\n",
    "print(\"最佳F1值时的召回率：\", rec[index])"
   ]
  },
  {
   "cell_type": "code",
   "execution_count": 37,
   "metadata": {},
   "outputs": [
    {
     "data": {
      "text/plain": [
       "Text(0.5, 1.0, 'KS曲线')"
      ]
     },
     "execution_count": 37,
     "metadata": {},
     "output_type": "execute_result"
    },
    {
     "data": {
      "image/png": "[encoded data removed]",
      "text/plain": [
       "<Figure size 432x288 with 1 Axes>"
      ]
     },
     "metadata": {
      "needs_background": "light"
     },
     "output_type": "display_data"
    }
   ],
   "source": [
    "fpr, tpr, thresholds = roc_curve(y_true=y_test, y_score=probo[:, 1], pos_label=1)\n",
    "# roc_curve中，thresholds索引为0的元素值会大于1，为了能够正常显示，\n",
    "# 将thresholds索引为0的元素修改为1。\n",
    "thresholds[0] = 1\n",
    "plt.plot(thresholds, tpr, label=\"TPR\")\n",
    "plt.plot(thresholds, fpr, label=\"FPR\")\n",
    "plt.legend()\n",
    "plt.xlabel(\"阈值\")\n",
    "plt.ylabel(\"数值\")\n",
    "plt.title(\"KS曲线\")"
   ]
  },
  {
   "cell_type": "code",
   "execution_count": 38,
   "metadata": {},
   "outputs": [
    {
     "name": "stdout",
     "output_type": "stream",
     "text": [
      "最大差值位置： 292\n",
      "对应的阈值： 0.5872037554127475\n"
     ]
    }
   ],
   "source": [
    "diff = tpr - fpr\n",
    "index = diff.argmax()\n",
    "print(\"最大差值位置：\", index)\n",
    "print(\"对应的阈值：\", thresholds[index])"
   ]
  },
  {
   "cell_type": "markdown",
   "metadata": {},
   "source": [
    "## 随机森林"
   ]
  },
  {
   "cell_type": "code",
   "execution_count": 4,
   "metadata": {},
   "outputs": [
    {
     "data": {
      "text/html": [
       "<div>\n",
       "<style scoped>\n",
       "    .dataframe tbody tr th:only-of-type {\n",
       "        vertical-align: middle;\n",
       "    }\n",
       "\n",
       "    .dataframe tbody tr th {\n",
       "        vertical-align: top;\n",
       "    }\n",
       "\n",
       "    .dataframe thead th {\n",
       "        text-align: right;\n",
       "    }\n",
       "</style>\n",
       "<table border=\"1\" class=\"dataframe\">\n",
       "  <thead>\n",
       "    <tr style=\"text-align: right;\">\n",
       "      <th></th>\n",
       "      <th>Unnamed: 0</th>\n",
       "      <th>cough</th>\n",
       "      <th>fever</th>\n",
       "      <th>sore_throat</th>\n",
       "      <th>shortness_of_breath</th>\n",
       "      <th>head_ache</th>\n",
       "      <th>corona_result</th>\n",
       "      <th>age_60_and_above</th>\n",
       "      <th>gender</th>\n",
       "      <th>test_indication</th>\n",
       "    </tr>\n",
       "  </thead>\n",
       "  <tbody>\n",
       "    <tr>\n",
       "      <th>0</th>\n",
       "      <td>86101</td>\n",
       "      <td>0</td>\n",
       "      <td>0</td>\n",
       "      <td>0</td>\n",
       "      <td>0</td>\n",
       "      <td>0</td>\n",
       "      <td>0</td>\n",
       "      <td>No</td>\n",
       "      <td>female</td>\n",
       "      <td>Other</td>\n",
       "    </tr>\n",
       "    <tr>\n",
       "      <th>1</th>\n",
       "      <td>331256</td>\n",
       "      <td>0</td>\n",
       "      <td>0</td>\n",
       "      <td>0</td>\n",
       "      <td>0</td>\n",
       "      <td>0</td>\n",
       "      <td>1</td>\n",
       "      <td>No</td>\n",
       "      <td>female</td>\n",
       "      <td>Contact with confirmed</td>\n",
       "    </tr>\n",
       "    <tr>\n",
       "      <th>2</th>\n",
       "      <td>255572</td>\n",
       "      <td>0</td>\n",
       "      <td>0</td>\n",
       "      <td>0</td>\n",
       "      <td>0</td>\n",
       "      <td>0</td>\n",
       "      <td>1</td>\n",
       "      <td>No</td>\n",
       "      <td>female</td>\n",
       "      <td>Other</td>\n",
       "    </tr>\n",
       "    <tr>\n",
       "      <th>3</th>\n",
       "      <td>303651</td>\n",
       "      <td>0</td>\n",
       "      <td>0</td>\n",
       "      <td>0</td>\n",
       "      <td>0</td>\n",
       "      <td>0</td>\n",
       "      <td>0</td>\n",
       "      <td>Yes</td>\n",
       "      <td>female</td>\n",
       "      <td>Other</td>\n",
       "    </tr>\n",
       "    <tr>\n",
       "      <th>4</th>\n",
       "      <td>87124</td>\n",
       "      <td>0</td>\n",
       "      <td>0</td>\n",
       "      <td>0</td>\n",
       "      <td>0</td>\n",
       "      <td>0</td>\n",
       "      <td>0</td>\n",
       "      <td>No</td>\n",
       "      <td>female</td>\n",
       "      <td>Other</td>\n",
       "    </tr>\n",
       "    <tr>\n",
       "      <th>...</th>\n",
       "      <td>...</td>\n",
       "      <td>...</td>\n",
       "      <td>...</td>\n",
       "      <td>...</td>\n",
       "      <td>...</td>\n",
       "      <td>...</td>\n",
       "      <td>...</td>\n",
       "      <td>...</td>\n",
       "      <td>...</td>\n",
       "      <td>...</td>\n",
       "    </tr>\n",
       "    <tr>\n",
       "      <th>39995</th>\n",
       "      <td>115660</td>\n",
       "      <td>0</td>\n",
       "      <td>0</td>\n",
       "      <td>0</td>\n",
       "      <td>0</td>\n",
       "      <td>0</td>\n",
       "      <td>1</td>\n",
       "      <td>Yes</td>\n",
       "      <td>female</td>\n",
       "      <td>Other</td>\n",
       "    </tr>\n",
       "    <tr>\n",
       "      <th>39996</th>\n",
       "      <td>140192</td>\n",
       "      <td>0</td>\n",
       "      <td>0</td>\n",
       "      <td>0</td>\n",
       "      <td>0</td>\n",
       "      <td>0</td>\n",
       "      <td>0</td>\n",
       "      <td>No</td>\n",
       "      <td>male</td>\n",
       "      <td>Other</td>\n",
       "    </tr>\n",
       "    <tr>\n",
       "      <th>39997</th>\n",
       "      <td>42378</td>\n",
       "      <td>1</td>\n",
       "      <td>1</td>\n",
       "      <td>1</td>\n",
       "      <td>0</td>\n",
       "      <td>1</td>\n",
       "      <td>1</td>\n",
       "      <td>No</td>\n",
       "      <td>female</td>\n",
       "      <td>Contact with confirmed</td>\n",
       "    </tr>\n",
       "    <tr>\n",
       "      <th>39998</th>\n",
       "      <td>40836</td>\n",
       "      <td>0</td>\n",
       "      <td>0</td>\n",
       "      <td>0</td>\n",
       "      <td>0</td>\n",
       "      <td>0</td>\n",
       "      <td>1</td>\n",
       "      <td>No</td>\n",
       "      <td>male</td>\n",
       "      <td>Other</td>\n",
       "    </tr>\n",
       "    <tr>\n",
       "      <th>39999</th>\n",
       "      <td>73004</td>\n",
       "      <td>1</td>\n",
       "      <td>0</td>\n",
       "      <td>0</td>\n",
       "      <td>0</td>\n",
       "      <td>0</td>\n",
       "      <td>1</td>\n",
       "      <td>NaN</td>\n",
       "      <td>female</td>\n",
       "      <td>Other</td>\n",
       "    </tr>\n",
       "  </tbody>\n",
       "</table>\n",
       "<p>40000 rows × 10 columns</p>\n",
       "</div>"
      ],
      "text/plain": [
       "       Unnamed: 0  cough  fever  sore_throat  shortness_of_breath  head_ache  \\\n",
       "0           86101      0      0            0                    0          0   \n",
       "1          331256      0      0            0                    0          0   \n",
       "2          255572      0      0            0                    0          0   \n",
       "3          303651      0      0            0                    0          0   \n",
       "4           87124      0      0            0                    0          0   \n",
       "...           ...    ...    ...          ...                  ...        ...   \n",
       "39995      115660      0      0            0                    0          0   \n",
       "39996      140192      0      0            0                    0          0   \n",
       "39997       42378      1      1            1                    0          1   \n",
       "39998       40836      0      0            0                    0          0   \n",
       "39999       73004      1      0            0                    0          0   \n",
       "\n",
       "       corona_result age_60_and_above  gender         test_indication  \n",
       "0                  0               No  female                   Other  \n",
       "1                  1               No  female  Contact with confirmed  \n",
       "2                  1               No  female                   Other  \n",
       "3                  0              Yes  female                   Other  \n",
       "4                  0               No  female                   Other  \n",
       "...              ...              ...     ...                     ...  \n",
       "39995              1              Yes  female                   Other  \n",
       "39996              0               No    male                   Other  \n",
       "39997              1               No  female  Contact with confirmed  \n",
       "39998              1               No    male                   Other  \n",
       "39999              1              NaN  female                   Other  \n",
       "\n",
       "[40000 rows x 10 columns]"
      ]
     },
     "execution_count": 4,
     "metadata": {},
     "output_type": "execute_result"
    }
   ],
   "source": [
    "import pandas as pd\n",
    "data = pd.read_csv(r'C:\\Users\\65164\\Desktop\\202026231_王耀正_covid数据集的可视化分析\\1.数据及分析源文件\\2020年Covid-19数据 2.csv')\n",
    "\n",
    "# df.sample(n=None, frac=None, replace=False, weights=None, random_state=None, axis=None)\n",
    "# n = number of rows(optional, cannot be used with frac) 抽取的行数；\n",
    "# frac = fraction/proportion(optional, cannot be used with n) 抽取的比例；\n",
    "# replace = Allow or disallow sampling of the same row more than once (boolean, default False) 是否为有放回抽样；\n",
    "# weights (str or ndarray-like, optional) 权重\n",
    "# random_state (int to use as interval, or call np.random.get_state(), optional) 整数作为间隔，或者调用np.random.get_state()\n",
    "# axis = extract row or column (0->row, 1->column) 抽取行还是列（0是行，1是列）\n",
    "\n",
    "# random select 10% from dataset\n",
    "sample = data.sample(frac=0.1, random_state=5, axis=0)\n",
    "# export to csv file\n",
    "sample.to_csv(r'C:\\Users\\65164\\Desktop\\202026231_王耀正_covid数据集的可视化分析\\1.数据及分析源文件\\kfjy.csv',encoding='utf_8_sig')\n",
    "data= pd.read_csv(r'C:\\Users\\65164\\Desktop\\202026231_王耀正_covid数据集的可视化分析\\1.数据及分析源文件\\kfjy.csv')\n",
    "data"
   ]
  },
  {
   "cell_type": "code",
   "execution_count": 4,
   "metadata": {},
   "outputs": [
    {
     "data": {
      "text/html": [
       "<div>\n",
       "<style scoped>\n",
       "    .dataframe tbody tr th:only-of-type {\n",
       "        vertical-align: middle;\n",
       "    }\n",
       "\n",
       "    .dataframe tbody tr th {\n",
       "        vertical-align: top;\n",
       "    }\n",
       "\n",
       "    .dataframe thead th {\n",
       "        text-align: right;\n",
       "    }\n",
       "</style>\n",
       "<table border=\"1\" class=\"dataframe\">\n",
       "  <thead>\n",
       "    <tr style=\"text-align: right;\">\n",
       "      <th></th>\n",
       "      <th>cough</th>\n",
       "      <th>fever</th>\n",
       "      <th>sore_throat</th>\n",
       "      <th>shortness_of_breath</th>\n",
       "      <th>head_ache</th>\n",
       "      <th>corona_result</th>\n",
       "      <th>age_60_and_above</th>\n",
       "      <th>gender</th>\n",
       "      <th>test_indication</th>\n",
       "    </tr>\n",
       "  </thead>\n",
       "  <tbody>\n",
       "    <tr>\n",
       "      <th>0</th>\n",
       "      <td>0</td>\n",
       "      <td>0</td>\n",
       "      <td>0</td>\n",
       "      <td>0</td>\n",
       "      <td>0</td>\n",
       "      <td>1</td>\n",
       "      <td>No</td>\n",
       "      <td>male</td>\n",
       "      <td>Other</td>\n",
       "    </tr>\n",
       "    <tr>\n",
       "      <th>1</th>\n",
       "      <td>1</td>\n",
       "      <td>0</td>\n",
       "      <td>0</td>\n",
       "      <td>0</td>\n",
       "      <td>1</td>\n",
       "      <td>1</td>\n",
       "      <td>No</td>\n",
       "      <td>male</td>\n",
       "      <td>Other</td>\n",
       "    </tr>\n",
       "    <tr>\n",
       "      <th>2</th>\n",
       "      <td>0</td>\n",
       "      <td>0</td>\n",
       "      <td>0</td>\n",
       "      <td>0</td>\n",
       "      <td>0</td>\n",
       "      <td>1</td>\n",
       "      <td>Yes</td>\n",
       "      <td>female</td>\n",
       "      <td>Contact with confirmed</td>\n",
       "    </tr>\n",
       "    <tr>\n",
       "      <th>3</th>\n",
       "      <td>0</td>\n",
       "      <td>0</td>\n",
       "      <td>0</td>\n",
       "      <td>0</td>\n",
       "      <td>0</td>\n",
       "      <td>1</td>\n",
       "      <td>No</td>\n",
       "      <td>male</td>\n",
       "      <td>Other</td>\n",
       "    </tr>\n",
       "    <tr>\n",
       "      <th>4</th>\n",
       "      <td>0</td>\n",
       "      <td>0</td>\n",
       "      <td>0</td>\n",
       "      <td>0</td>\n",
       "      <td>0</td>\n",
       "      <td>1</td>\n",
       "      <td>No</td>\n",
       "      <td>female</td>\n",
       "      <td>Other</td>\n",
       "    </tr>\n",
       "  </tbody>\n",
       "</table>\n",
       "</div>"
      ],
      "text/plain": [
       "   cough  fever  sore_throat  shortness_of_breath  head_ache  corona_result  \\\n",
       "0      0      0            0                    0          0              1   \n",
       "1      1      0            0                    0          1              1   \n",
       "2      0      0            0                    0          0              1   \n",
       "3      0      0            0                    0          0              1   \n",
       "4      0      0            0                    0          0              1   \n",
       "\n",
       "  age_60_and_above  gender         test_indication  \n",
       "0               No    male                   Other  \n",
       "1               No    male                   Other  \n",
       "2              Yes  female  Contact with confirmed  \n",
       "3               No    male                   Other  \n",
       "4               No  female                   Other  "
      ]
     },
     "execution_count": 4,
     "metadata": {},
     "output_type": "execute_result"
    }
   ],
   "source": [
    "data = pd.read_csv(r'C:\\Users\\65164\\Desktop\\202026231_王耀正_covid数据集的可视化分析\\1.数据及分析源文件\\2020年Covid-19数据 2.csv')\n",
    "data.head()"
   ]
  },
  {
   "cell_type": "code",
   "execution_count": 5,
   "metadata": {},
   "outputs": [
    {
     "name": "stdout",
     "output_type": "stream",
     "text": [
      "60\n"
     ]
    },
    {
     "data": {
      "text/html": [
       "<div>\n",
       "<style scoped>\n",
       "    .dataframe tbody tr th:only-of-type {\n",
       "        vertical-align: middle;\n",
       "    }\n",
       "\n",
       "    .dataframe tbody tr th {\n",
       "        vertical-align: top;\n",
       "    }\n",
       "\n",
       "    .dataframe thead th {\n",
       "        text-align: right;\n",
       "    }\n",
       "</style>\n",
       "<table border=\"1\" class=\"dataframe\">\n",
       "  <thead>\n",
       "    <tr style=\"text-align: right;\">\n",
       "      <th></th>\n",
       "      <th>miss_num</th>\n",
       "      <th>miss_rate</th>\n",
       "    </tr>\n",
       "  </thead>\n",
       "  <tbody>\n",
       "    <tr>\n",
       "      <th>age_60_and_above</th>\n",
       "      <td>49912</td>\n",
       "      <td>12.478</td>\n",
       "    </tr>\n",
       "    <tr>\n",
       "      <th>gender</th>\n",
       "      <td>7752</td>\n",
       "      <td>1.938</td>\n",
       "    </tr>\n",
       "    <tr>\n",
       "      <th>cough</th>\n",
       "      <td>0</td>\n",
       "      <td>0.000</td>\n",
       "    </tr>\n",
       "    <tr>\n",
       "      <th>fever</th>\n",
       "      <td>0</td>\n",
       "      <td>0.000</td>\n",
       "    </tr>\n",
       "    <tr>\n",
       "      <th>sore_throat</th>\n",
       "      <td>0</td>\n",
       "      <td>0.000</td>\n",
       "    </tr>\n",
       "    <tr>\n",
       "      <th>shortness_of_breath</th>\n",
       "      <td>0</td>\n",
       "      <td>0.000</td>\n",
       "    </tr>\n",
       "    <tr>\n",
       "      <th>head_ache</th>\n",
       "      <td>0</td>\n",
       "      <td>0.000</td>\n",
       "    </tr>\n",
       "    <tr>\n",
       "      <th>corona_result</th>\n",
       "      <td>0</td>\n",
       "      <td>0.000</td>\n",
       "    </tr>\n",
       "    <tr>\n",
       "      <th>test_indication</th>\n",
       "      <td>0</td>\n",
       "      <td>0.000</td>\n",
       "    </tr>\n",
       "  </tbody>\n",
       "</table>\n",
       "</div>"
      ],
      "text/plain": [
       "                     miss_num  miss_rate\n",
       "age_60_and_above        49912     12.478\n",
       "gender                   7752      1.938\n",
       "cough                       0      0.000\n",
       "fever                       0      0.000\n",
       "sore_throat                 0      0.000\n",
       "shortness_of_breath         0      0.000\n",
       "head_ache                   0      0.000\n",
       "corona_result               0      0.000\n",
       "test_indication             0      0.000"
      ]
     },
     "metadata": {},
     "output_type": "display_data"
    },
    {
     "data": {
      "image/png": "[encoded data removed]",
      "text/plain": [
       "<Figure size 1080x288 with 1 Axes>"
      ]
     },
     "metadata": {
      "needs_background": "light"
     },
     "output_type": "display_data"
    }
   ],
   "source": [
    "print(pd.get_option(\"max_rows\"))\n",
    "# 如果需要显示完整，可以设置最多显示的行数。\n",
    "# pd.set_option(\"max_rows\", 200)\n",
    "miss = data.isnull().sum(axis=0)\n",
    "miss = pd.concat([miss, miss * 100 / data.shape[0]], axis=1)\n",
    "miss.columns = [\"miss_num\", \"miss_rate\"]\n",
    "miss.sort_values(\"miss_num\", inplace=True, ascending=False)\n",
    "display(miss)\n",
    "ax = sns.barplot(y=miss.index, x=miss[\"miss_num\"])\n",
    "figsize=(15, miss.shape[0] // 2)\n",
    "ax.get_figure().set_size_inches(figsize)\n",
    "for i in range(miss.shape[0]):\n",
    "    num = miss[\"miss_num\"].iloc[i]\n",
    "    rate = miss[\"miss_rate\"].iloc[i]\n",
    "    ax.text(num / 2, i, f\"{num}({rate:.2f}%)\")\n",
    "\n"
   ]
  },
  {
   "cell_type": "code",
   "execution_count": 6,
   "metadata": {},
   "outputs": [
    {
     "name": "stdout",
     "output_type": "stream",
     "text": [
      "缺失值较少的特征：\n",
      "Index(['age_60_and_above', 'gender'], dtype='object')\n"
     ]
    }
   ],
   "source": [
    "missing_less = miss[(miss[\"miss_rate\"] > 0) & (miss[\"miss_rate\"] <= 20)].index\n",
    "print(\"缺失值较少的特征：\")\n",
    "print(missing_less)"
   ]
  },
  {
   "cell_type": "code",
   "execution_count": 7,
   "metadata": {},
   "outputs": [
    {
     "data": {
      "text/plain": [
       "False"
      ]
     },
     "execution_count": 7,
     "metadata": {},
     "output_type": "execute_result"
    }
   ],
   "source": [
    " data.dropna(inplace=True)\n",
    "#缺失值处理完成后，我们再次来进行检查。\n",
    "(data.isnull().sum() > 0).any()"
   ]
  },
  {
   "cell_type": "code",
   "execution_count": 8,
   "metadata": {},
   "outputs": [
    {
     "data": {
      "text/plain": [
       "348471"
      ]
     },
     "execution_count": 8,
     "metadata": {},
     "output_type": "execute_result"
    }
   ],
   "source": [
    "data.duplicated().sum()\n",
    "#data.drop_duplicates(inplace=True)"
   ]
  },
  {
   "cell_type": "code",
   "execution_count": 9,
   "metadata": {},
   "outputs": [],
   "source": [
    "import numpy as np"
   ]
  },
  {
   "cell_type": "code",
   "execution_count": 10,
   "metadata": {},
   "outputs": [
    {
     "name": "stdout",
     "output_type": "stream",
     "text": [
      "非数值变量：\n",
      "['age_60_and_above', 'gender', 'test_indication']\n"
     ]
    }
   ],
   "source": [
    "not_number = []\n",
    "for k, v in data.dtypes.items():\n",
    "    if not np.issubdtype(v, np.number):\n",
    "         not_number.append(k)\n",
    "print(\"非数值变量：\")\n",
    "print(not_number)"
   ]
  },
  {
   "cell_type": "code",
   "execution_count": 11,
   "metadata": {},
   "outputs": [
    {
     "data": {
      "text/plain": [
       "<Figure size 432x288 with 0 Axes>"
      ]
     },
     "metadata": {},
     "output_type": "display_data"
    }
   ],
   "source": [
    "fig = plt.figure()"
   ]
  },
  {
   "cell_type": "code",
   "execution_count": 12,
   "metadata": {},
   "outputs": [
    {
     "data": {
      "image/png": "[encoded data removed]",
      "text/plain": [
       "<Figure size 1080x720 with 4 Axes>"
      ]
     },
     "metadata": {
      "needs_background": "light"
     },
     "output_type": "display_data"
    }
   ],
   "source": [
    "def plot_var(name_list):\n",
    "    \"\"\"绘制变量的每个类别的数量。\n",
    "    Parameters\n",
    "    ----------\n",
    "    name : str\n",
    "    变量的名称。\n",
    "    \"\"\"\n",
    "    num = len(name_list)\n",
    "    row, col = np.ceil(num / 2).astype(np.int32), 2\n",
    "    fig, ax = plt.subplots(row, col)\n",
    "    fig.set_size_inches(15, row * 5)\n",
    "    ax = ax.ravel()\n",
    "    for index, name in enumerate(name_list):\n",
    "        v = data[name].value_counts()\n",
    "        sns.countplot(x=name, data=data, order=v.index, ax=ax[index])\n",
    "        # 在图像上绘制数值。\n",
    "        for x, y in enumerate(v):\n",
    "            t = ax[index].text(x, y, y)\n",
    "            # 数值居中对齐。\n",
    "            t.set_ha(\"center\")\n",
    "        if len(v) > 10:\n",
    "            ax[index].set_xticklabels(ax[index].get_xticklabels(), rotation=90)\n",
    "            \n",
    "plot_var([\"corona_result\", \"age_60_and_above\", \"gender\", \"test_indication\"])"
   ]
  },
  {
   "cell_type": "code",
   "execution_count": 13,
   "metadata": {},
   "outputs": [
    {
     "data": {
      "text/html": [
       "<div>\n",
       "<style scoped>\n",
       "    .dataframe tbody tr th:only-of-type {\n",
       "        vertical-align: middle;\n",
       "    }\n",
       "\n",
       "    .dataframe tbody tr th {\n",
       "        vertical-align: top;\n",
       "    }\n",
       "\n",
       "    .dataframe thead th {\n",
       "        text-align: right;\n",
       "    }\n",
       "</style>\n",
       "<table border=\"1\" class=\"dataframe\">\n",
       "  <thead>\n",
       "    <tr style=\"text-align: right;\">\n",
       "      <th></th>\n",
       "      <th>age_60_and_above_No</th>\n",
       "      <th>age_60_and_above_Yes</th>\n",
       "      <th>gender_female</th>\n",
       "      <th>gender_male</th>\n",
       "      <th>test_indication_Abroad</th>\n",
       "      <th>test_indication_Contact with confirmed</th>\n",
       "      <th>test_indication_Other</th>\n",
       "    </tr>\n",
       "  </thead>\n",
       "  <tbody>\n",
       "    <tr>\n",
       "      <th>0</th>\n",
       "      <td>1</td>\n",
       "      <td>0</td>\n",
       "      <td>0</td>\n",
       "      <td>1</td>\n",
       "      <td>0</td>\n",
       "      <td>0</td>\n",
       "      <td>1</td>\n",
       "    </tr>\n",
       "    <tr>\n",
       "      <th>1</th>\n",
       "      <td>1</td>\n",
       "      <td>0</td>\n",
       "      <td>0</td>\n",
       "      <td>1</td>\n",
       "      <td>0</td>\n",
       "      <td>0</td>\n",
       "      <td>1</td>\n",
       "    </tr>\n",
       "    <tr>\n",
       "      <th>2</th>\n",
       "      <td>0</td>\n",
       "      <td>1</td>\n",
       "      <td>1</td>\n",
       "      <td>0</td>\n",
       "      <td>0</td>\n",
       "      <td>1</td>\n",
       "      <td>0</td>\n",
       "    </tr>\n",
       "    <tr>\n",
       "      <th>3</th>\n",
       "      <td>1</td>\n",
       "      <td>0</td>\n",
       "      <td>0</td>\n",
       "      <td>1</td>\n",
       "      <td>0</td>\n",
       "      <td>0</td>\n",
       "      <td>1</td>\n",
       "    </tr>\n",
       "    <tr>\n",
       "      <th>4</th>\n",
       "      <td>1</td>\n",
       "      <td>0</td>\n",
       "      <td>1</td>\n",
       "      <td>0</td>\n",
       "      <td>0</td>\n",
       "      <td>0</td>\n",
       "      <td>1</td>\n",
       "    </tr>\n",
       "  </tbody>\n",
       "</table>\n",
       "</div>"
      ],
      "text/plain": [
       "   age_60_and_above_No  age_60_and_above_Yes  gender_female  gender_male  \\\n",
       "0                    1                     0              0            1   \n",
       "1                    1                     0              0            1   \n",
       "2                    0                     1              1            0   \n",
       "3                    1                     0              0            1   \n",
       "4                    1                     0              1            0   \n",
       "\n",
       "   test_indication_Abroad  test_indication_Contact with confirmed  \\\n",
       "0                       0                                       0   \n",
       "1                       0                                       0   \n",
       "2                       0                                       1   \n",
       "3                       0                                       0   \n",
       "4                       0                                       0   \n",
       "\n",
       "   test_indication_Other  \n",
       "0                      1  \n",
       "1                      1  \n",
       "2                      0  \n",
       "3                      1  \n",
       "4                      1  "
      ]
     },
     "metadata": {},
     "output_type": "display_data"
    }
   ],
   "source": [
    "columns = [ \"age_60_and_above\", \"gender\", \"test_indication\"]\n",
    "dummy = pd.get_dummies(data[columns])\n",
    "display(dummy.head())\n",
    "data = pd.concat([data, dummy], axis=1)\n",
    "data = data.drop(columns, axis=1)"
   ]
  },
  {
   "cell_type": "code",
   "execution_count": 25,
   "metadata": {},
   "outputs": [
    {
     "data": {
      "text/plain": [
       "1    208726\n",
       "0    140312\n",
       "Name: corona_result, dtype: int64"
      ]
     },
     "execution_count": 25,
     "metadata": {},
     "output_type": "execute_result"
    }
   ],
   "source": [
    "data['corona_result'].value_counts()"
   ]
  },
  {
   "cell_type": "code",
   "execution_count": 26,
   "metadata": {},
   "outputs": [
    {
     "data": {
      "image/png": "[encoded data removed]",
      "text/plain": [
       "<Figure size 1080x360 with 2 Axes>"
      ]
     },
     "metadata": {
      "needs_background": "light"
     },
     "output_type": "display_data"
    }
   ],
   "source": [
    "plot_var([\"corona_result\"])"
   ]
  },
  {
   "cell_type": "code",
   "execution_count": 27,
   "metadata": {},
   "outputs": [
    {
     "name": "stdout",
     "output_type": "stream",
     "text": [
      "真实值： [1 1 1 0 1 0 1 0 1 0]\n",
      "预测值： [1 0 0 0 1 0 0 0 1 0]\n"
     ]
    }
   ],
   "source": [
    "from sklearn.linear_model import LogisticRegression\n",
    "from sklearn.model_selection import train_test_split\n",
    "\n",
    "lr = LogisticRegression(solver=\"liblinear\")\n",
    "y = data[\"corona_result\"]\n",
    "X = data.drop(\"corona_result\", axis=1)\n",
    "X_train, X_test, y_train, y_test = train_test_split(X, y, test_size=0.3, random_state=0)\n",
    "lr.fit(X_train, y_train)\n",
    "y_hat = lr.predict(X_test)\n",
    "print(\"真实值：\", y_test.values[:10])\n",
    "print(\"预测值：\", y_hat[:10])"
   ]
  },
  {
   "cell_type": "code",
   "execution_count": 28,
   "metadata": {},
   "outputs": [
    {
     "name": "stdout",
     "output_type": "stream",
     "text": [
      "[[40029  2159]\n",
      " [21886 40638]]\n"
     ]
    }
   ],
   "source": [
    "from sklearn.metrics import confusion_matrix\n",
    "# 根据传入的真实值与预测值，创建混淆矩阵。\n",
    "matrix = confusion_matrix(y_true=y_test, y_pred=y_hat)\n",
    "print(matrix)"
   ]
  },
  {
   "cell_type": "code",
   "execution_count": 29,
   "metadata": {},
   "outputs": [
    {
     "data": {
      "text/plain": [
       "1    208726\n",
       "0    140312\n",
       "Name: corona_result, dtype: int64"
      ]
     },
     "execution_count": 29,
     "metadata": {},
     "output_type": "execute_result"
    }
   ],
   "source": [
    "data['corona_result'].value_counts()"
   ]
  },
  {
   "cell_type": "code",
   "execution_count": 30,
   "metadata": {},
   "outputs": [],
   "source": [
    "y_full=data['corona_result']"
   ]
  },
  {
   "cell_type": "code",
   "execution_count": 31,
   "metadata": {},
   "outputs": [
    {
     "data": {
      "text/plain": [
       "1    208726\n",
       "0    140312\n",
       "Name: corona_result, dtype: int64"
      ]
     },
     "execution_count": 31,
     "metadata": {},
     "output_type": "execute_result"
    }
   ],
   "source": [
    "y_full.value_counts()"
   ]
  },
  {
   "cell_type": "code",
   "execution_count": 32,
   "metadata": {},
   "outputs": [
    {
     "data": {
      "text/html": [
       "<div>\n",
       "<style scoped>\n",
       "    .dataframe tbody tr th:only-of-type {\n",
       "        vertical-align: middle;\n",
       "    }\n",
       "\n",
       "    .dataframe tbody tr th {\n",
       "        vertical-align: top;\n",
       "    }\n",
       "\n",
       "    .dataframe thead th {\n",
       "        text-align: right;\n",
       "    }\n",
       "</style>\n",
       "<table border=\"1\" class=\"dataframe\">\n",
       "  <thead>\n",
       "    <tr style=\"text-align: right;\">\n",
       "      <th></th>\n",
       "      <th>cough</th>\n",
       "      <th>fever</th>\n",
       "      <th>sore_throat</th>\n",
       "      <th>shortness_of_breath</th>\n",
       "      <th>head_ache</th>\n",
       "      <th>age_60_and_above_No</th>\n",
       "      <th>age_60_and_above_Yes</th>\n",
       "      <th>gender_female</th>\n",
       "      <th>gender_male</th>\n",
       "      <th>test_indication_Abroad</th>\n",
       "      <th>test_indication_Contact with confirmed</th>\n",
       "      <th>test_indication_Other</th>\n",
       "    </tr>\n",
       "  </thead>\n",
       "  <tbody>\n",
       "    <tr>\n",
       "      <th>0</th>\n",
       "      <td>0</td>\n",
       "      <td>0</td>\n",
       "      <td>0</td>\n",
       "      <td>0</td>\n",
       "      <td>0</td>\n",
       "      <td>1</td>\n",
       "      <td>0</td>\n",
       "      <td>0</td>\n",
       "      <td>1</td>\n",
       "      <td>0</td>\n",
       "      <td>0</td>\n",
       "      <td>1</td>\n",
       "    </tr>\n",
       "    <tr>\n",
       "      <th>1</th>\n",
       "      <td>1</td>\n",
       "      <td>0</td>\n",
       "      <td>0</td>\n",
       "      <td>0</td>\n",
       "      <td>1</td>\n",
       "      <td>1</td>\n",
       "      <td>0</td>\n",
       "      <td>0</td>\n",
       "      <td>1</td>\n",
       "      <td>0</td>\n",
       "      <td>0</td>\n",
       "      <td>1</td>\n",
       "    </tr>\n",
       "    <tr>\n",
       "      <th>2</th>\n",
       "      <td>0</td>\n",
       "      <td>0</td>\n",
       "      <td>0</td>\n",
       "      <td>0</td>\n",
       "      <td>0</td>\n",
       "      <td>0</td>\n",
       "      <td>1</td>\n",
       "      <td>1</td>\n",
       "      <td>0</td>\n",
       "      <td>0</td>\n",
       "      <td>1</td>\n",
       "      <td>0</td>\n",
       "    </tr>\n",
       "    <tr>\n",
       "      <th>3</th>\n",
       "      <td>0</td>\n",
       "      <td>0</td>\n",
       "      <td>0</td>\n",
       "      <td>0</td>\n",
       "      <td>0</td>\n",
       "      <td>1</td>\n",
       "      <td>0</td>\n",
       "      <td>0</td>\n",
       "      <td>1</td>\n",
       "      <td>0</td>\n",
       "      <td>0</td>\n",
       "      <td>1</td>\n",
       "    </tr>\n",
       "    <tr>\n",
       "      <th>4</th>\n",
       "      <td>0</td>\n",
       "      <td>0</td>\n",
       "      <td>0</td>\n",
       "      <td>0</td>\n",
       "      <td>0</td>\n",
       "      <td>1</td>\n",
       "      <td>0</td>\n",
       "      <td>1</td>\n",
       "      <td>0</td>\n",
       "      <td>0</td>\n",
       "      <td>0</td>\n",
       "      <td>1</td>\n",
       "    </tr>\n",
       "    <tr>\n",
       "      <th>...</th>\n",
       "      <td>...</td>\n",
       "      <td>...</td>\n",
       "      <td>...</td>\n",
       "      <td>...</td>\n",
       "      <td>...</td>\n",
       "      <td>...</td>\n",
       "      <td>...</td>\n",
       "      <td>...</td>\n",
       "      <td>...</td>\n",
       "      <td>...</td>\n",
       "      <td>...</td>\n",
       "      <td>...</td>\n",
       "    </tr>\n",
       "    <tr>\n",
       "      <th>399995</th>\n",
       "      <td>0</td>\n",
       "      <td>0</td>\n",
       "      <td>0</td>\n",
       "      <td>0</td>\n",
       "      <td>0</td>\n",
       "      <td>1</td>\n",
       "      <td>0</td>\n",
       "      <td>0</td>\n",
       "      <td>1</td>\n",
       "      <td>0</td>\n",
       "      <td>1</td>\n",
       "      <td>0</td>\n",
       "    </tr>\n",
       "    <tr>\n",
       "      <th>399996</th>\n",
       "      <td>0</td>\n",
       "      <td>0</td>\n",
       "      <td>0</td>\n",
       "      <td>0</td>\n",
       "      <td>0</td>\n",
       "      <td>1</td>\n",
       "      <td>0</td>\n",
       "      <td>0</td>\n",
       "      <td>1</td>\n",
       "      <td>0</td>\n",
       "      <td>0</td>\n",
       "      <td>1</td>\n",
       "    </tr>\n",
       "    <tr>\n",
       "      <th>399997</th>\n",
       "      <td>0</td>\n",
       "      <td>0</td>\n",
       "      <td>0</td>\n",
       "      <td>0</td>\n",
       "      <td>0</td>\n",
       "      <td>1</td>\n",
       "      <td>0</td>\n",
       "      <td>0</td>\n",
       "      <td>1</td>\n",
       "      <td>0</td>\n",
       "      <td>0</td>\n",
       "      <td>1</td>\n",
       "    </tr>\n",
       "    <tr>\n",
       "      <th>399998</th>\n",
       "      <td>0</td>\n",
       "      <td>0</td>\n",
       "      <td>0</td>\n",
       "      <td>0</td>\n",
       "      <td>0</td>\n",
       "      <td>1</td>\n",
       "      <td>0</td>\n",
       "      <td>1</td>\n",
       "      <td>0</td>\n",
       "      <td>0</td>\n",
       "      <td>0</td>\n",
       "      <td>1</td>\n",
       "    </tr>\n",
       "    <tr>\n",
       "      <th>399999</th>\n",
       "      <td>1</td>\n",
       "      <td>1</td>\n",
       "      <td>0</td>\n",
       "      <td>0</td>\n",
       "      <td>1</td>\n",
       "      <td>1</td>\n",
       "      <td>0</td>\n",
       "      <td>1</td>\n",
       "      <td>0</td>\n",
       "      <td>0</td>\n",
       "      <td>1</td>\n",
       "      <td>0</td>\n",
       "    </tr>\n",
       "  </tbody>\n",
       "</table>\n",
       "<p>349038 rows × 12 columns</p>\n",
       "</div>"
      ],
      "text/plain": [
       "        cough  fever  sore_throat  shortness_of_breath  head_ache  \\\n",
       "0           0      0            0                    0          0   \n",
       "1           1      0            0                    0          1   \n",
       "2           0      0            0                    0          0   \n",
       "3           0      0            0                    0          0   \n",
       "4           0      0            0                    0          0   \n",
       "...       ...    ...          ...                  ...        ...   \n",
       "399995      0      0            0                    0          0   \n",
       "399996      0      0            0                    0          0   \n",
       "399997      0      0            0                    0          0   \n",
       "399998      0      0            0                    0          0   \n",
       "399999      1      1            0                    0          1   \n",
       "\n",
       "        age_60_and_above_No  age_60_and_above_Yes  gender_female  gender_male  \\\n",
       "0                         1                     0              0            1   \n",
       "1                         1                     0              0            1   \n",
       "2                         0                     1              1            0   \n",
       "3                         1                     0              0            1   \n",
       "4                         1                     0              1            0   \n",
       "...                     ...                   ...            ...          ...   \n",
       "399995                    1                     0              0            1   \n",
       "399996                    1                     0              0            1   \n",
       "399997                    1                     0              0            1   \n",
       "399998                    1                     0              1            0   \n",
       "399999                    1                     0              1            0   \n",
       "\n",
       "        test_indication_Abroad  test_indication_Contact with confirmed  \\\n",
       "0                            0                                       0   \n",
       "1                            0                                       0   \n",
       "2                            0                                       1   \n",
       "3                            0                                       0   \n",
       "4                            0                                       0   \n",
       "...                        ...                                     ...   \n",
       "399995                       0                                       1   \n",
       "399996                       0                                       0   \n",
       "399997                       0                                       0   \n",
       "399998                       0                                       0   \n",
       "399999                       0                                       1   \n",
       "\n",
       "        test_indication_Other  \n",
       "0                           1  \n",
       "1                           1  \n",
       "2                           0  \n",
       "3                           1  \n",
       "4                           1  \n",
       "...                       ...  \n",
       "399995                      0  \n",
       "399996                      1  \n",
       "399997                      1  \n",
       "399998                      1  \n",
       "399999                      0  \n",
       "\n",
       "[349038 rows x 12 columns]"
      ]
     },
     "execution_count": 32,
     "metadata": {},
     "output_type": "execute_result"
    }
   ],
   "source": [
    "X_full = data.loc[:,data.columns!='corona_result']\n",
    "X_full"
   ]
  },
  {
   "cell_type": "code",
   "execution_count": 33,
   "metadata": {},
   "outputs": [
    {
     "data": {
      "text/plain": [
       "<AxesSubplot:>"
      ]
     },
     "execution_count": 33,
     "metadata": {},
     "output_type": "execute_result"
    },
    {
     "data": {
      "image/png": "[encoded data removed]",
      "text/plain": [
       "<Figure size 432x288 with 1 Axes>"
      ]
     },
     "metadata": {
      "needs_background": "light"
     },
     "output_type": "display_data"
    }
   ],
   "source": [
    "y_full.hist()"
   ]
  },
  {
   "cell_type": "code",
   "execution_count": 34,
   "metadata": {},
   "outputs": [],
   "source": [
    "from sklearn.tree import DecisionTreeClassifier \n",
    "from sklearn.ensemble import RandomForestClassifier\n",
    "from sklearn.model_selection import cross_val_score\n",
    "clf = DecisionTreeClassifier(random_state=100) \n",
    "rfc = RandomForestClassifier(n_estimators=100,random_state=0) "
   ]
  },
  {
   "cell_type": "code",
   "execution_count": 35,
   "metadata": {},
   "outputs": [],
   "source": [
    "from sklearn.model_selection import train_test_split\n",
    "X_train, X_vali, Y_train, Y_vali = train_test_split(X_full, y_full,test_size=0.3,random_state=420)"
   ]
  },
  {
   "cell_type": "code",
   "execution_count": 36,
   "metadata": {},
   "outputs": [
    {
     "name": "stdout",
     "output_type": "stream",
     "text": [
      "0.7713751227546048 31\n"
     ]
    },
    {
     "data": {
      "image/png": "[encoded data removed]",
      "text/plain": [
       "<Figure size 1440x360 with 1 Axes>"
      ]
     },
     "metadata": {
      "needs_background": "light"
     },
     "output_type": "display_data"
    }
   ],
   "source": [
    "# 调随机森林的参数 n_estimators\n",
    "scorel = []\n",
    "for i in range(0,200,10):\n",
    "    rfc = RandomForestClassifier(n_estimators=i+1,n_jobs=-1, random_state=0)\n",
    "    score = cross_val_score(rfc, X_train, Y_train, cv=10).mean() \n",
    "    scorel.append(score)\n",
    "print(max(scorel),(scorel.index(max(scorel))*10)+1) \n",
    "plt.figure(figsize=[20 ,5]) \n",
    "plt.plot(range(1,201,10),scorel)\n",
    "plt.show()"
   ]
  },
  {
   "cell_type": "code",
   "execution_count": 43,
   "metadata": {},
   "outputs": [
    {
     "name": "stdout",
     "output_type": "stream",
     "text": [
      "0.7713751227546048 31\n"
     ]
    },
    {
     "data": {
      "image/png": "[encoded data removed]",
      "text/plain": [
       "<Figure size 1440x360 with 1 Axes>"
      ]
     },
     "metadata": {
      "needs_background": "light"
     },
     "output_type": "display_data"
    }
   ],
   "source": [
    "scorel = []\n",
    "for i in range(20,45):\n",
    "    rfc = RandomForestClassifier(n_estimators=i,n_jobs=-1, random_state=0)\n",
    "    score = cross_val_score(rfc, X_train, Y_train,cv=10).mean() \n",
    "    scorel.append(score)\n",
    "print(max(scorel),([*range(20,45)][scorel.index(max(scorel))]))\n",
    "plt.figure(figsize=[20,5])\n",
    "plt.plot(range(20,45),scorel)\n",
    "plt.show()"
   ]
  },
  {
   "cell_type": "code",
   "execution_count": 50,
   "metadata": {},
   "outputs": [],
   "source": [
    "from sklearn.model_selection import GridSearchCV \n"
   ]
  },
  {
   "cell_type": "code",
   "execution_count": 51,
   "metadata": {},
   "outputs": [
    {
     "data": {
      "text/plain": [
       "{'max_depth': 9}"
      ]
     },
     "execution_count": 51,
     "metadata": {},
     "output_type": "execute_result"
    }
   ],
   "source": [
    "param_grid = {'max_depth':np.arange(1, 20, 1)}\n",
    "rfc = RandomForestClassifier(n_estimators=31,random_state=0) \n",
    "GS = GridSearchCV(rfc,param_grid,cv=10) \n",
    "GS.fit(X_train, Y_train)\n",
    "GS.best_params_ #显示调整出来的最佳参数"
   ]
  },
  {
   "cell_type": "code",
   "execution_count": 40,
   "metadata": {},
   "outputs": [
    {
     "data": {
      "text/plain": [
       "0.7713751222520477"
      ]
     },
     "execution_count": 40,
     "metadata": {},
     "output_type": "execute_result"
    }
   ],
   "source": [
    "GS.best_score_ #返回调整好的最佳参数对应的准确率"
   ]
  },
  {
   "cell_type": "code",
   "execution_count": 52,
   "metadata": {},
   "outputs": [
    {
     "data": {
      "text/plain": [
       "{'max_features': 5}"
      ]
     },
     "execution_count": 52,
     "metadata": {},
     "output_type": "execute_result"
    }
   ],
   "source": [
    "#调整max_features\n",
    "param_grid = {'max_features':np.arange(5,30,1)} \n",
    "rfc = RandomForestClassifier(n_estimators=31,random_state=0,max_depth=11)\n",
    "GS = GridSearchCV(rfc,param_grid,cv=10)\n",
    "GS.fit(X_train, Y_train)\n",
    "GS.best_params_"
   ]
  },
  {
   "cell_type": "code",
   "execution_count": 53,
   "metadata": {},
   "outputs": [
    {
     "data": {
      "text/plain": [
       "0.7713751227546048"
      ]
     },
     "execution_count": 53,
     "metadata": {},
     "output_type": "execute_result"
    }
   ],
   "source": [
    "GS.best_score_"
   ]
  },
  {
   "cell_type": "code",
   "execution_count": 54,
   "metadata": {},
   "outputs": [
    {
     "data": {
      "text/plain": [
       "0.7713546581256614"
      ]
     },
     "execution_count": 54,
     "metadata": {},
     "output_type": "execute_result"
    }
   ],
   "source": [
    "rfc = RandomForestClassifier(n_estimators=113,random_state=0,max_depth=11,max_features=14)\n",
    "score = cross_val_score(rfc,X_train, Y_train,cv=10).mean()\n",
    "score"
   ]
  },
  {
   "cell_type": "code",
   "execution_count": 55,
   "metadata": {},
   "outputs": [
    {
     "data": {
      "text/plain": [
       "array([4.58400997e-02, 2.18061490e-01, 2.34516946e-02, 8.87848994e-03,\n",
       "       1.15884146e-01, 4.63840318e-04, 5.34227613e-04, 3.25919651e-03,\n",
       "       3.14074582e-03, 5.64895820e-03, 5.69584734e-01, 5.25237696e-03])"
      ]
     },
     "execution_count": 55,
     "metadata": {},
     "output_type": "execute_result"
    }
   ],
   "source": [
    "rfc = RandomForestClassifier(n_estimators=113,random_state=0,max_depth=11,max_features=14) \n",
    "rfc.fit(X_train, Y_train)\n",
    "rfc.feature_importances_"
   ]
  },
  {
   "cell_type": "code",
   "execution_count": 56,
   "metadata": {
    "scrolled": false
   },
   "outputs": [
    {
     "data": {
      "text/plain": [
       "(        cough  fever  sore_throat  shortness_of_breath  head_ache  \\\n",
       " 121336      0      0            0                    0          0   \n",
       " 100422      0      0            0                    0          0   \n",
       " 186150      0      0            0                    0          0   \n",
       " 150628      0      0            0                    0          0   \n",
       " 332487      0      0            0                    0          0   \n",
       " ...       ...    ...          ...                  ...        ...   \n",
       " 204166      0      0            0                    0          0   \n",
       " 71255       0      0            0                    0          0   \n",
       " 174408      0      1            0                    0          0   \n",
       " 136649      0      0            0                    0          0   \n",
       " 222027      0      0            0                    0          0   \n",
       " \n",
       "         age_60_and_above_No  age_60_and_above_Yes  gender_female  gender_male  \\\n",
       " 121336                    1                     0              1            0   \n",
       " 100422                    1                     0              1            0   \n",
       " 186150                    1                     0              1            0   \n",
       " 150628                    1                     0              1            0   \n",
       " 332487                    1                     0              1            0   \n",
       " ...                     ...                   ...            ...          ...   \n",
       " 204166                    1                     0              1            0   \n",
       " 71255                     1                     0              0            1   \n",
       " 174408                    0                     1              0            1   \n",
       " 136649                    1                     0              1            0   \n",
       " 222027                    1                     0              1            0   \n",
       " \n",
       "         test_indication_Abroad  test_indication_Contact with confirmed  \\\n",
       " 121336                       0                                       0   \n",
       " 100422                       0                                       0   \n",
       " 186150                       0                                       0   \n",
       " 150628                       0                                       0   \n",
       " 332487                       0                                       0   \n",
       " ...                        ...                                     ...   \n",
       " 204166                       0                                       0   \n",
       " 71255                        0                                       0   \n",
       " 174408                       0                                       1   \n",
       " 136649                       0                                       0   \n",
       " 222027                       0                                       1   \n",
       " \n",
       "         test_indication_Other  \n",
       " 121336                      1  \n",
       " 100422                      1  \n",
       " 186150                      1  \n",
       " 150628                      1  \n",
       " 332487                      1  \n",
       " ...                       ...  \n",
       " 204166                      1  \n",
       " 71255                       1  \n",
       " 174408                      0  \n",
       " 136649                      1  \n",
       " 222027                      0  \n",
       " \n",
       " [244326 rows x 12 columns],\n",
       "         cough  fever  sore_throat  shortness_of_breath  head_ache  \\\n",
       " 35065       0      0            0                    0          0   \n",
       " 184081      0      0            0                    0          0   \n",
       " 1947        0      0            0                    0          1   \n",
       " 88221       0      0            0                    1          0   \n",
       " 316140      0      0            0                    0          1   \n",
       " ...       ...    ...          ...                  ...        ...   \n",
       " 333675      0      0            0                    0          0   \n",
       " 394015      0      0            0                    0          0   \n",
       " 76526       0      0            0                    0          0   \n",
       " 279711      1      1            0                    0          0   \n",
       " 285964      0      0            0                    0          0   \n",
       " \n",
       "         age_60_and_above_No  age_60_and_above_Yes  gender_female  gender_male  \\\n",
       " 35065                     1                     0              1            0   \n",
       " 184081                    1                     0              0            1   \n",
       " 1947                      1                     0              1            0   \n",
       " 88221                     1                     0              1            0   \n",
       " 316140                    1                     0              1            0   \n",
       " ...                     ...                   ...            ...          ...   \n",
       " 333675                    1                     0              0            1   \n",
       " 394015                    1                     0              0            1   \n",
       " 76526                     0                     1              1            0   \n",
       " 279711                    0                     1              1            0   \n",
       " 285964                    1                     0              0            1   \n",
       " \n",
       "         test_indication_Abroad  test_indication_Contact with confirmed  \\\n",
       " 35065                        0                                       0   \n",
       " 184081                       0                                       0   \n",
       " 1947                         0                                       1   \n",
       " 88221                        0                                       1   \n",
       " 316140                       0                                       1   \n",
       " ...                        ...                                     ...   \n",
       " 333675                       0                                       0   \n",
       " 394015                       0                                       1   \n",
       " 76526                        0                                       0   \n",
       " 279711                       0                                       0   \n",
       " 285964                       0                                       1   \n",
       " \n",
       "         test_indication_Other  \n",
       " 35065                       1  \n",
       " 184081                      1  \n",
       " 1947                        0  \n",
       " 88221                       0  \n",
       " 316140                      0  \n",
       " ...                       ...  \n",
       " 333675                      1  \n",
       " 394015                      0  \n",
       " 76526                       1  \n",
       " 279711                      1  \n",
       " 285964                      0  \n",
       " \n",
       " [104712 rows x 12 columns],\n",
       " 121336    0\n",
       " 100422    0\n",
       " 186150    0\n",
       " 150628    0\n",
       " 332487    0\n",
       "          ..\n",
       " 204166    0\n",
       " 71255     0\n",
       " 174408    1\n",
       " 136649    0\n",
       " 222027    1\n",
       " Name: corona_result, Length: 244326, dtype: int64,\n",
       " 35065     1\n",
       " 184081    0\n",
       " 1947      1\n",
       " 88221     1\n",
       " 316140    1\n",
       "          ..\n",
       " 333675    1\n",
       " 394015    1\n",
       " 76526     1\n",
       " 279711    1\n",
       " 285964    1\n",
       " Name: corona_result, Length: 104712, dtype: int64)"
      ]
     },
     "execution_count": 56,
     "metadata": {},
     "output_type": "execute_result"
    }
   ],
   "source": [
    "X_train, X_vali, Y_train, Y_vali"
   ]
  },
  {
   "cell_type": "code",
   "execution_count": 57,
   "metadata": {},
   "outputs": [],
   "source": [
    " from sklearn import metrics"
   ]
  },
  {
   "cell_type": "code",
   "execution_count": 58,
   "metadata": {},
   "outputs": [],
   "source": [
    "#预测结果vali_X,vali_y\n",
    "train_predict = rfc.predict(X_train)\n",
    "test_predict = rfc.predict(X_vali)\n",
    "\n",
    "\n",
    "# 计算分别属于各类的概率，取标签为1的概率\n",
    "train_proba = rfc.predict_proba(X_train)[:, 1]  \n",
    "test_proba = rfc.predict_proba(X_vali)[:, 1]"
   ]
  },
  {
   "cell_type": "code",
   "execution_count": 59,
   "metadata": {},
   "outputs": [
    {
     "data": {
      "text/plain": [
       "<AxesSubplot:>"
      ]
     },
     "execution_count": 59,
     "metadata": {},
     "output_type": "execute_result"
    },
    {
     "data": {
      "image/png": "[encoded data removed]",
      "text/plain": [
       "<Figure size 1080x288 with 2 Axes>"
      ]
     },
     "metadata": {
      "needs_background": "light"
     },
     "output_type": "display_data"
    }
   ],
   "source": [
    "matrix1 = metrics.confusion_matrix(Y_vali, test_predict, labels=[0, 1])\n",
    "plt.figure(figsize=(15,4))\n",
    "plt.subplot(1,3,1)\n",
    "sns.set(font_scale=1.1)\n",
    "sns.heatmap(matrix1, annot=True, fmt='d', cmap=plt.cm.Blues) "
   ]
  },
  {
   "cell_type": "code",
   "execution_count": 60,
   "metadata": {},
   "outputs": [
    {
     "name": "stdout",
     "output_type": "stream",
     "text": [
      "AUC = 0.8182\n"
     ]
    }
   ],
   "source": [
    "fpr_test, tpr_test, th_test = metrics.roc_curve(Y_vali, test_proba)\n",
    "fpr_train, tpr_train, th_train = metrics.roc_curve(Y_train, train_proba)\n",
    "print('AUC = %6.4f' %metrics.auc(fpr_train, tpr_train))"
   ]
  },
  {
   "cell_type": "code",
   "execution_count": 61,
   "metadata": {},
   "outputs": [
    {
     "data": {
      "image/png": "[encoded data removed]",
      "text/plain": [
       "<Figure size 432x432 with 1 Axes>"
      ]
     },
     "metadata": {},
     "output_type": "display_data"
    }
   ],
   "source": [
    "plt.figure(figsize=[6, 6])\n",
    "test_auc = metrics.auc(fpr_train, tpr_train)\n",
    "plt.plot(fpr_test, tpr_test, 'b-', label='Test ROC curve (area = %0.2f)' % test_auc)\n",
    "#plt.plot(fpr_train, tpr_train, 'r-')\n",
    "plt.title('ROC curve')\n",
    "plt.legend()\n",
    "plt.show()"
   ]
  },
  {
   "cell_type": "code",
   "execution_count": 62,
   "metadata": {},
   "outputs": [],
   "source": [
    "#预测结果vali_X,vali_y\n",
    "train_predict = rfc.predict(X_train)\n",
    "test_predict = rfc.predict(X_vali)"
   ]
  },
  {
   "cell_type": "code",
   "execution_count": 63,
   "metadata": {},
   "outputs": [
    {
     "data": {
      "text/plain": [
       "<AxesSubplot:>"
      ]
     },
     "execution_count": 63,
     "metadata": {},
     "output_type": "execute_result"
    },
    {
     "data": {
      "image/png": "[encoded data removed]",
      "text/plain": [
       "<Figure size 1080x288 with 2 Axes>"
      ]
     },
     "metadata": {},
     "output_type": "display_data"
    }
   ],
   "source": [
    "matrix1 = metrics.confusion_matrix(Y_vali, test_predict, labels=[0, 1])\n",
    "plt.figure(figsize=(15,4))\n",
    "plt.subplot(1,3,1)\n",
    "sns.set(font_scale=1.1)\n",
    "sns.heatmap(matrix1, annot=True, fmt='d', cmap=plt.cm.Blues) "
   ]
  },
  {
   "cell_type": "code",
   "execution_count": 64,
   "metadata": {},
   "outputs": [
    {
     "data": {
      "text/plain": [
       "[('cough', 0.045840099698584456),\n",
       " ('fever', 0.21806148972292463),\n",
       " ('sore_throat', 0.02345169455398194),\n",
       " ('shortness_of_breath', 0.008878489940240614),\n",
       " ('head_ache', 0.11588414624039259),\n",
       " ('age_60_and_above_No', 0.0004638403183122403),\n",
       " ('age_60_and_above_Yes', 0.0005342276125479052),\n",
       " ('gender_female', 0.00325919651262951),\n",
       " ('gender_male', 0.003140745821506661),\n",
       " ('test_indication_Abroad', 0.0056489581951395815),\n",
       " ('test_indication_Contact with confirmed', 0.5695847344203211),\n",
       " ('test_indication_Other', 0.005252376963418782)]"
      ]
     },
     "execution_count": 64,
     "metadata": {},
     "output_type": "execute_result"
    }
   ],
   "source": [
    "qz= [*zip(X_full.columns,rfc.feature_importances_)]\n",
    "qz"
   ]
  },
  {
   "cell_type": "code",
   "execution_count": 65,
   "metadata": {},
   "outputs": [
    {
     "data": {
      "text/plain": [
       "12"
      ]
     },
     "execution_count": 65,
     "metadata": {},
     "output_type": "execute_result"
    }
   ],
   "source": [
    "len(qz)"
   ]
  },
  {
   "cell_type": "code",
   "execution_count": 66,
   "metadata": {},
   "outputs": [
    {
     "data": {
      "text/html": [
       "<div>\n",
       "<style scoped>\n",
       "    .dataframe tbody tr th:only-of-type {\n",
       "        vertical-align: middle;\n",
       "    }\n",
       "\n",
       "    .dataframe tbody tr th {\n",
       "        vertical-align: top;\n",
       "    }\n",
       "\n",
       "    .dataframe thead th {\n",
       "        text-align: right;\n",
       "    }\n",
       "</style>\n",
       "<table border=\"1\" class=\"dataframe\">\n",
       "  <thead>\n",
       "    <tr style=\"text-align: right;\">\n",
       "      <th></th>\n",
       "      <th>特征</th>\n",
       "      <th>权值</th>\n",
       "    </tr>\n",
       "  </thead>\n",
       "  <tbody>\n",
       "    <tr>\n",
       "      <th>10</th>\n",
       "      <td>test_indication_Contact with confirmed</td>\n",
       "      <td>0.569585</td>\n",
       "    </tr>\n",
       "    <tr>\n",
       "      <th>1</th>\n",
       "      <td>fever</td>\n",
       "      <td>0.218061</td>\n",
       "    </tr>\n",
       "    <tr>\n",
       "      <th>4</th>\n",
       "      <td>head_ache</td>\n",
       "      <td>0.115884</td>\n",
       "    </tr>\n",
       "    <tr>\n",
       "      <th>0</th>\n",
       "      <td>cough</td>\n",
       "      <td>0.045840</td>\n",
       "    </tr>\n",
       "    <tr>\n",
       "      <th>2</th>\n",
       "      <td>sore_throat</td>\n",
       "      <td>0.023452</td>\n",
       "    </tr>\n",
       "    <tr>\n",
       "      <th>3</th>\n",
       "      <td>shortness_of_breath</td>\n",
       "      <td>0.008878</td>\n",
       "    </tr>\n",
       "    <tr>\n",
       "      <th>9</th>\n",
       "      <td>test_indication_Abroad</td>\n",
       "      <td>0.005649</td>\n",
       "    </tr>\n",
       "    <tr>\n",
       "      <th>11</th>\n",
       "      <td>test_indication_Other</td>\n",
       "      <td>0.005252</td>\n",
       "    </tr>\n",
       "    <tr>\n",
       "      <th>7</th>\n",
       "      <td>gender_female</td>\n",
       "      <td>0.003259</td>\n",
       "    </tr>\n",
       "    <tr>\n",
       "      <th>8</th>\n",
       "      <td>gender_male</td>\n",
       "      <td>0.003141</td>\n",
       "    </tr>\n",
       "    <tr>\n",
       "      <th>6</th>\n",
       "      <td>age_60_and_above_Yes</td>\n",
       "      <td>0.000534</td>\n",
       "    </tr>\n",
       "    <tr>\n",
       "      <th>5</th>\n",
       "      <td>age_60_and_above_No</td>\n",
       "      <td>0.000464</td>\n",
       "    </tr>\n",
       "  </tbody>\n",
       "</table>\n",
       "</div>"
      ],
      "text/plain": [
       "                                        特征        权值\n",
       "10  test_indication_Contact with confirmed  0.569585\n",
       "1                                    fever  0.218061\n",
       "4                                head_ache  0.115884\n",
       "0                                    cough  0.045840\n",
       "2                              sore_throat  0.023452\n",
       "3                      shortness_of_breath  0.008878\n",
       "9                   test_indication_Abroad  0.005649\n",
       "11                   test_indication_Other  0.005252\n",
       "7                            gender_female  0.003259\n",
       "8                              gender_male  0.003141\n",
       "6                     age_60_and_above_Yes  0.000534\n",
       "5                      age_60_and_above_No  0.000464"
      ]
     },
     "execution_count": 66,
     "metadata": {},
     "output_type": "execute_result"
    }
   ],
   "source": [
    "qz_data = pd.DataFrame({'特征':X_full.columns, '权值':rfc.feature_importances_},index=range(len(qz)))\n",
    "qz_data=qz_data.sort_values(by='权值',ascending=False)\n",
    "qz_data"
   ]
  },
  {
   "cell_type": "code",
   "execution_count": 67,
   "metadata": {},
   "outputs": [
    {
     "data": {
      "image/png": "[encoded data removed]",
      "text/plain": [
       "<Figure size 1080x360 with 1 Axes>"
      ]
     },
     "metadata": {},
     "output_type": "display_data"
    }
   ],
   "source": [
    "feature_importance1 = qz_data[1:]\n",
    "feature_importance1 = feature_importance1.reset_index(drop=True)\n",
    "plt.rcParams['font.sans-serif']=['SimHei']\n",
    "plt.rcParams['axes.unicode_minus']=False\n",
    "plt.figure(figsize=(15,5))\n",
    "plt.bar( feature_importance1['特征'], feature_importance1['权值'], alpha=0.4, facecolor = 'blue')\n",
    "plt.title('feature_importance',fontsize=20)#标题，并设定字号大小\n",
    "plt.xlabel(u'feature_importance',fontsize=14)#设置x轴，并设定字号大小\n",
    "plt.ylabel(u'feature',fontsize=14)#设置y轴，并设定字号大小\n",
    "plt.grid(axis='x')\n",
    "plt.xticks(rotation=90)\n",
    "plt.show()"
   ]
  }
 ],
 "metadata": {
  "kernelspec": {
   "display_name": "Python 3",
   "language": "python",
   "name": "python3"
  },
  "language_info": {
   "codemirror_mode": {
    "name": "ipython",
    "version": 3
   },
   "file_extension": ".py",
   "mimetype": "text/x-python",
   "name": "python",
   "nbconvert_exporter": "python",
   "pygments_lexer": "ipython3",
   "version": "3.8.5"
  }
 },
 "nbformat": 4,
 "nbformat_minor": 4
}
